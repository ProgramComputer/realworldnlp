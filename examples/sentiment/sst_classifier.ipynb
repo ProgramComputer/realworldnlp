{
 "cells": [
  {
   "cell_type": "code",
   "execution_count": 1,
   "metadata": {
    "scrolled": true
   },
   "outputs": [
    {
     "name": "stdout",
     "output_type": "stream",
     "text": [
      "Requirement already satisfied: allennlp==2.5.0 in /home/mhagiwara/dev/realworldnlp/.pyenv/lib/python3.6/site-packages (2.5.0)\n",
      "Requirement already satisfied: transformers<4.7,>=4.1 in /home/mhagiwara/dev/realworldnlp/.pyenv/lib/python3.6/site-packages (from allennlp==2.5.0) (4.6.1)\n",
      "Requirement already satisfied: lmdb in /home/mhagiwara/dev/realworldnlp/.pyenv/lib/python3.6/site-packages (from allennlp==2.5.0) (1.2.1)\n",
      "Requirement already satisfied: filelock<3.1,>=3.0 in /home/mhagiwara/dev/realworldnlp/.pyenv/lib/python3.6/site-packages (from allennlp==2.5.0) (3.0.12)\n",
      "Requirement already satisfied: google-cloud-storage<1.39.0,>=1.38.0 in /home/mhagiwara/dev/realworldnlp/.pyenv/lib/python3.6/site-packages (from allennlp==2.5.0) (1.38.0)\n",
      "Requirement already satisfied: more-itertools in /home/mhagiwara/dev/realworldnlp/.pyenv/lib/python3.6/site-packages (from allennlp==2.5.0) (8.5.0)\n",
      "Requirement already satisfied: scipy in /home/mhagiwara/dev/realworldnlp/.pyenv/lib/python3.6/site-packages (from allennlp==2.5.0) (1.5.2)\n",
      "Requirement already satisfied: requests>=2.18 in /home/mhagiwara/dev/realworldnlp/.pyenv/lib/python3.6/site-packages (from allennlp==2.5.0) (2.24.0)\n",
      "Requirement already satisfied: torch<1.9.0,>=1.6.0 in /home/mhagiwara/dev/realworldnlp/.pyenv/lib/python3.6/site-packages (from allennlp==2.5.0) (1.8.1)\n",
      "Requirement already satisfied: wandb<0.11.0,>=0.10.0 in /home/mhagiwara/dev/realworldnlp/.pyenv/lib/python3.6/site-packages (from allennlp==2.5.0) (0.10.33)\n",
      "Requirement already satisfied: h5py in /home/mhagiwara/dev/realworldnlp/.pyenv/lib/python3.6/site-packages (from allennlp==2.5.0) (2.10.0)\n",
      "Requirement already satisfied: dataclasses in /home/mhagiwara/dev/realworldnlp/.pyenv/lib/python3.6/site-packages (from allennlp==2.5.0) (0.7)\n",
      "Requirement already satisfied: numpy in /home/mhagiwara/dev/realworldnlp/.pyenv/lib/python3.6/site-packages (from allennlp==2.5.0) (1.19.1)\n",
      "Requirement already satisfied: boto3<2.0,>=1.14 in /home/mhagiwara/dev/realworldnlp/.pyenv/lib/python3.6/site-packages (from allennlp==2.5.0) (1.14.56)\n",
      "Requirement already satisfied: torchvision<0.10.0,>=0.8.1 in /home/mhagiwara/dev/realworldnlp/.pyenv/lib/python3.6/site-packages (from allennlp==2.5.0) (0.9.1)\n",
      "Requirement already satisfied: huggingface-hub>=0.0.8 in /home/mhagiwara/dev/realworldnlp/.pyenv/lib/python3.6/site-packages (from allennlp==2.5.0) (0.0.8)\n",
      "Requirement already satisfied: pytest in /home/mhagiwara/dev/realworldnlp/.pyenv/lib/python3.6/site-packages (from allennlp==2.5.0) (6.0.1)\n",
      "Requirement already satisfied: overrides==3.1.0 in /home/mhagiwara/dev/realworldnlp/.pyenv/lib/python3.6/site-packages (from allennlp==2.5.0) (3.1.0)\n",
      "Requirement already satisfied: nltk in /home/mhagiwara/dev/realworldnlp/.pyenv/lib/python3.6/site-packages (from allennlp==2.5.0) (3.5)\n",
      "Requirement already satisfied: termcolor==1.1.0 in /home/mhagiwara/dev/realworldnlp/.pyenv/lib/python3.6/site-packages (from allennlp==2.5.0) (1.1.0)\n",
      "Requirement already satisfied: tqdm>=4.19 in /home/mhagiwara/dev/realworldnlp/.pyenv/lib/python3.6/site-packages (from allennlp==2.5.0) (4.48.2)\n",
      "Requirement already satisfied: spacy<3.1,>=2.1.0 in /home/mhagiwara/dev/realworldnlp/.pyenv/lib/python3.6/site-packages (from allennlp==2.5.0) (2.2.4)\n",
      "Requirement already satisfied: scikit-learn in /home/mhagiwara/dev/realworldnlp/.pyenv/lib/python3.6/site-packages (from allennlp==2.5.0) (0.23.2)\n",
      "Requirement already satisfied: jsonnet>=0.10.0 in /home/mhagiwara/dev/realworldnlp/.pyenv/lib/python3.6/site-packages (from allennlp==2.5.0) (0.16.0)\n",
      "Requirement already satisfied: tensorboardX>=1.2 in /home/mhagiwara/dev/realworldnlp/.pyenv/lib/python3.6/site-packages (from allennlp==2.5.0) (2.1)\n",
      "Requirement already satisfied: sentencepiece in /home/mhagiwara/dev/realworldnlp/.pyenv/lib/python3.6/site-packages (from allennlp==2.5.0) (0.1.92)\n",
      "Requirement already satisfied: checklist==0.0.11 in /home/mhagiwara/dev/realworldnlp/.pyenv/lib/python3.6/site-packages (from allennlp==2.5.0) (0.0.11)\n",
      "Requirement already satisfied: munch>=2.5 in /home/mhagiwara/dev/realworldnlp/.pyenv/lib/python3.6/site-packages (from checklist==0.0.11->allennlp==2.5.0) (2.5.0)\n",
      "Requirement already satisfied: dill>=0.3.1 in /home/mhagiwara/dev/realworldnlp/.pyenv/lib/python3.6/site-packages (from checklist==0.0.11->allennlp==2.5.0) (0.3.3)\n",
      "Requirement already satisfied: jupyter>=1.0 in /home/mhagiwara/dev/realworldnlp/.pyenv/lib/python3.6/site-packages (from checklist==0.0.11->allennlp==2.5.0) (1.0.0)\n",
      "Requirement already satisfied: ipywidgets>=7.5 in /home/mhagiwara/dev/realworldnlp/.pyenv/lib/python3.6/site-packages (from checklist==0.0.11->allennlp==2.5.0) (7.5.1)\n",
      "Requirement already satisfied: patternfork-nosql in /home/mhagiwara/dev/realworldnlp/.pyenv/lib/python3.6/site-packages (from checklist==0.0.11->allennlp==2.5.0) (3.6)\n",
      "Requirement already satisfied: iso-639 in /home/mhagiwara/dev/realworldnlp/.pyenv/lib/python3.6/site-packages (from checklist==0.0.11->allennlp==2.5.0) (0.4.5)\n",
      "Requirement already satisfied: jmespath<1.0.0,>=0.7.1 in /home/mhagiwara/dev/realworldnlp/.pyenv/lib/python3.6/site-packages (from boto3<2.0,>=1.14->allennlp==2.5.0) (0.10.0)\n",
      "Requirement already satisfied: s3transfer<0.4.0,>=0.3.0 in /home/mhagiwara/dev/realworldnlp/.pyenv/lib/python3.6/site-packages (from boto3<2.0,>=1.14->allennlp==2.5.0) (0.3.3)\n",
      "Requirement already satisfied: botocore<1.18.0,>=1.17.56 in /home/mhagiwara/dev/realworldnlp/.pyenv/lib/python3.6/site-packages (from boto3<2.0,>=1.14->allennlp==2.5.0) (1.17.56)\n",
      "Requirement already satisfied: python-dateutil<3.0.0,>=2.1 in /home/mhagiwara/dev/realworldnlp/.pyenv/lib/python3.6/site-packages (from botocore<1.18.0,>=1.17.56->boto3<2.0,>=1.14->allennlp==2.5.0) (2.8.1)\n",
      "Requirement already satisfied: docutils<0.16,>=0.10 in /home/mhagiwara/dev/realworldnlp/.pyenv/lib/python3.6/site-packages (from botocore<1.18.0,>=1.17.56->boto3<2.0,>=1.14->allennlp==2.5.0) (0.15.2)\n",
      "Requirement already satisfied: urllib3<1.26,>=1.20 in /home/mhagiwara/dev/realworldnlp/.pyenv/lib/python3.6/site-packages (from botocore<1.18.0,>=1.17.56->boto3<2.0,>=1.14->allennlp==2.5.0) (1.25.10)\n",
      "Requirement already satisfied: google-cloud-core<2.0dev,>=1.4.1 in /home/mhagiwara/dev/realworldnlp/.pyenv/lib/python3.6/site-packages (from google-cloud-storage<1.39.0,>=1.38.0->allennlp==2.5.0) (1.7.1)\n",
      "Requirement already satisfied: google-auth<2.0dev,>=1.11.0 in /home/mhagiwara/dev/realworldnlp/.pyenv/lib/python3.6/site-packages (from google-cloud-storage<1.39.0,>=1.38.0->allennlp==2.5.0) (1.33.1)\n",
      "Requirement already satisfied: google-resumable-media<2.0dev,>=1.2.0 in /home/mhagiwara/dev/realworldnlp/.pyenv/lib/python3.6/site-packages (from google-cloud-storage<1.39.0,>=1.38.0->allennlp==2.5.0) (1.3.1)\n",
      "Requirement already satisfied: pyasn1-modules>=0.2.1 in /home/mhagiwara/dev/realworldnlp/.pyenv/lib/python3.6/site-packages (from google-auth<2.0dev,>=1.11.0->google-cloud-storage<1.39.0,>=1.38.0->allennlp==2.5.0) (0.2.8)\n",
      "Requirement already satisfied: six>=1.9.0 in /home/mhagiwara/dev/realworldnlp/.pyenv/lib/python3.6/site-packages (from google-auth<2.0dev,>=1.11.0->google-cloud-storage<1.39.0,>=1.38.0->allennlp==2.5.0) (1.15.0)\n",
      "Requirement already satisfied: rsa<5,>=3.1.4 in /home/mhagiwara/dev/realworldnlp/.pyenv/lib/python3.6/site-packages (from google-auth<2.0dev,>=1.11.0->google-cloud-storage<1.39.0,>=1.38.0->allennlp==2.5.0) (4.7.2)\n",
      "Requirement already satisfied: setuptools>=40.3.0 in /home/mhagiwara/dev/realworldnlp/.pyenv/lib/python3.6/site-packages (from google-auth<2.0dev,>=1.11.0->google-cloud-storage<1.39.0,>=1.38.0->allennlp==2.5.0) (50.3.0)\n",
      "Requirement already satisfied: cachetools<5.0,>=2.0.0 in /home/mhagiwara/dev/realworldnlp/.pyenv/lib/python3.6/site-packages (from google-auth<2.0dev,>=1.11.0->google-cloud-storage<1.39.0,>=1.38.0->allennlp==2.5.0) (4.2.2)\n",
      "Requirement already satisfied: google-api-core<2.0.0dev,>=1.21.0 in /home/mhagiwara/dev/realworldnlp/.pyenv/lib/python3.6/site-packages (from google-cloud-core<2.0dev,>=1.4.1->google-cloud-storage<1.39.0,>=1.38.0->allennlp==2.5.0) (1.31.0)\n",
      "Requirement already satisfied: packaging>=14.3 in /home/mhagiwara/dev/realworldnlp/.pyenv/lib/python3.6/site-packages (from google-api-core<2.0.0dev,>=1.21.0->google-cloud-core<2.0dev,>=1.4.1->google-cloud-storage<1.39.0,>=1.38.0->allennlp==2.5.0) (21.0)\n",
      "Requirement already satisfied: protobuf>=3.12.0 in /home/mhagiwara/dev/realworldnlp/.pyenv/lib/python3.6/site-packages (from google-api-core<2.0.0dev,>=1.21.0->google-cloud-core<2.0dev,>=1.4.1->google-cloud-storage<1.39.0,>=1.38.0->allennlp==2.5.0) (3.13.0)\n",
      "Requirement already satisfied: googleapis-common-protos<2.0dev,>=1.6.0 in /home/mhagiwara/dev/realworldnlp/.pyenv/lib/python3.6/site-packages (from google-api-core<2.0.0dev,>=1.21.0->google-cloud-core<2.0dev,>=1.4.1->google-cloud-storage<1.39.0,>=1.38.0->allennlp==2.5.0) (1.53.0)\n",
      "Requirement already satisfied: pytz in /home/mhagiwara/dev/realworldnlp/.pyenv/lib/python3.6/site-packages (from google-api-core<2.0.0dev,>=1.21.0->google-cloud-core<2.0dev,>=1.4.1->google-cloud-storage<1.39.0,>=1.38.0->allennlp==2.5.0) (2021.1)\n",
      "Requirement already satisfied: google-crc32c<2.0dev,>=1.0 in /home/mhagiwara/dev/realworldnlp/.pyenv/lib/python3.6/site-packages (from google-resumable-media<2.0dev,>=1.2.0->google-cloud-storage<1.39.0,>=1.38.0->allennlp==2.5.0) (1.1.2)\n",
      "Requirement already satisfied: cffi>=1.0.0 in /home/mhagiwara/dev/realworldnlp/.pyenv/lib/python3.6/site-packages (from google-crc32c<2.0dev,>=1.0->google-resumable-media<2.0dev,>=1.2.0->google-cloud-storage<1.39.0,>=1.38.0->allennlp==2.5.0) (1.14.6)\n"
     ]
    },
    {
     "name": "stdout",
     "output_type": "stream",
     "text": [
      "Requirement already satisfied: pycparser in /home/mhagiwara/dev/realworldnlp/.pyenv/lib/python3.6/site-packages (from cffi>=1.0.0->google-crc32c<2.0dev,>=1.0->google-resumable-media<2.0dev,>=1.2.0->google-cloud-storage<1.39.0,>=1.38.0->allennlp==2.5.0) (2.20)\n",
      "Requirement already satisfied: importlib-metadata in /home/mhagiwara/dev/realworldnlp/.pyenv/lib/python3.6/site-packages (from huggingface-hub>=0.0.8->allennlp==2.5.0) (1.7.0)\n",
      "Requirement already satisfied: ipython>=4.0.0 in /home/mhagiwara/dev/realworldnlp/.pyenv/lib/python3.6/site-packages (from ipywidgets>=7.5->checklist==0.0.11->allennlp==2.5.0) (7.16.1)\n",
      "Requirement already satisfied: nbformat>=4.2.0 in /home/mhagiwara/dev/realworldnlp/.pyenv/lib/python3.6/site-packages (from ipywidgets>=7.5->checklist==0.0.11->allennlp==2.5.0) (5.0.7)\n",
      "Requirement already satisfied: traitlets>=4.3.1 in /home/mhagiwara/dev/realworldnlp/.pyenv/lib/python3.6/site-packages (from ipywidgets>=7.5->checklist==0.0.11->allennlp==2.5.0) (4.3.3)\n",
      "Requirement already satisfied: widgetsnbextension~=3.5.0 in /home/mhagiwara/dev/realworldnlp/.pyenv/lib/python3.6/site-packages (from ipywidgets>=7.5->checklist==0.0.11->allennlp==2.5.0) (3.5.1)\n",
      "Requirement already satisfied: ipykernel>=4.5.1 in /home/mhagiwara/dev/realworldnlp/.pyenv/lib/python3.6/site-packages (from ipywidgets>=7.5->checklist==0.0.11->allennlp==2.5.0) (5.3.4)\n",
      "Requirement already satisfied: jupyter-client in /home/mhagiwara/dev/realworldnlp/.pyenv/lib/python3.6/site-packages (from ipykernel>=4.5.1->ipywidgets>=7.5->checklist==0.0.11->allennlp==2.5.0) (6.1.6)\n",
      "Requirement already satisfied: tornado>=4.2 in /home/mhagiwara/dev/realworldnlp/.pyenv/lib/python3.6/site-packages (from ipykernel>=4.5.1->ipywidgets>=7.5->checklist==0.0.11->allennlp==2.5.0) (6.0.4)\n",
      "Requirement already satisfied: prompt-toolkit!=3.0.0,!=3.0.1,<3.1.0,>=2.0.0 in /home/mhagiwara/dev/realworldnlp/.pyenv/lib/python3.6/site-packages (from ipython>=4.0.0->ipywidgets>=7.5->checklist==0.0.11->allennlp==2.5.0) (3.0.5)\n",
      "Requirement already satisfied: pickleshare in /home/mhagiwara/dev/realworldnlp/.pyenv/lib/python3.6/site-packages (from ipython>=4.0.0->ipywidgets>=7.5->checklist==0.0.11->allennlp==2.5.0) (0.7.5)\n",
      "Requirement already satisfied: backcall in /home/mhagiwara/dev/realworldnlp/.pyenv/lib/python3.6/site-packages (from ipython>=4.0.0->ipywidgets>=7.5->checklist==0.0.11->allennlp==2.5.0) (0.2.0)\n",
      "Requirement already satisfied: pexpect in /home/mhagiwara/dev/realworldnlp/.pyenv/lib/python3.6/site-packages (from ipython>=4.0.0->ipywidgets>=7.5->checklist==0.0.11->allennlp==2.5.0) (4.8.0)\n",
      "Requirement already satisfied: jedi>=0.10 in /home/mhagiwara/dev/realworldnlp/.pyenv/lib/python3.6/site-packages (from ipython>=4.0.0->ipywidgets>=7.5->checklist==0.0.11->allennlp==2.5.0) (0.17.2)\n",
      "Requirement already satisfied: pygments in /home/mhagiwara/dev/realworldnlp/.pyenv/lib/python3.6/site-packages (from ipython>=4.0.0->ipywidgets>=7.5->checklist==0.0.11->allennlp==2.5.0) (2.6.1)\n",
      "Requirement already satisfied: decorator in /home/mhagiwara/dev/realworldnlp/.pyenv/lib/python3.6/site-packages (from ipython>=4.0.0->ipywidgets>=7.5->checklist==0.0.11->allennlp==2.5.0) (4.4.2)\n",
      "Requirement already satisfied: parso<0.8.0,>=0.7.0 in /home/mhagiwara/dev/realworldnlp/.pyenv/lib/python3.6/site-packages (from jedi>=0.10->ipython>=4.0.0->ipywidgets>=7.5->checklist==0.0.11->allennlp==2.5.0) (0.7.1)\n",
      "Requirement already satisfied: jupyter-console in /home/mhagiwara/dev/realworldnlp/.pyenv/lib/python3.6/site-packages (from jupyter>=1.0->checklist==0.0.11->allennlp==2.5.0) (6.1.0)\n",
      "Requirement already satisfied: qtconsole in /home/mhagiwara/dev/realworldnlp/.pyenv/lib/python3.6/site-packages (from jupyter>=1.0->checklist==0.0.11->allennlp==2.5.0) (4.7.5)\n",
      "Requirement already satisfied: notebook in /home/mhagiwara/dev/realworldnlp/.pyenv/lib/python3.6/site-packages (from jupyter>=1.0->checklist==0.0.11->allennlp==2.5.0) (6.0.3)\n",
      "Requirement already satisfied: nbconvert in /home/mhagiwara/dev/realworldnlp/.pyenv/lib/python3.6/site-packages (from jupyter>=1.0->checklist==0.0.11->allennlp==2.5.0) (5.6.1)\n",
      "Requirement already satisfied: jupyter-core in /home/mhagiwara/dev/realworldnlp/.pyenv/lib/python3.6/site-packages (from nbformat>=4.2.0->ipywidgets>=7.5->checklist==0.0.11->allennlp==2.5.0) (4.6.3)\n",
      "Requirement already satisfied: ipython-genutils in /home/mhagiwara/dev/realworldnlp/.pyenv/lib/python3.6/site-packages (from nbformat>=4.2.0->ipywidgets>=7.5->checklist==0.0.11->allennlp==2.5.0) (0.2.0)\n",
      "Requirement already satisfied: jsonschema!=2.5.0,>=2.4 in /home/mhagiwara/dev/realworldnlp/.pyenv/lib/python3.6/site-packages (from nbformat>=4.2.0->ipywidgets>=7.5->checklist==0.0.11->allennlp==2.5.0) (3.2.0)\n",
      "Requirement already satisfied: attrs>=17.4.0 in /home/mhagiwara/dev/realworldnlp/.pyenv/lib/python3.6/site-packages (from jsonschema!=2.5.0,>=2.4->nbformat>=4.2.0->ipywidgets>=7.5->checklist==0.0.11->allennlp==2.5.0) (20.2.0)\n",
      "Requirement already satisfied: pyrsistent>=0.14.0 in /home/mhagiwara/dev/realworldnlp/.pyenv/lib/python3.6/site-packages (from jsonschema!=2.5.0,>=2.4->nbformat>=4.2.0->ipywidgets>=7.5->checklist==0.0.11->allennlp==2.5.0) (0.16.0)\n",
      "Requirement already satisfied: pyparsing>=2.0.2 in /home/mhagiwara/dev/realworldnlp/.pyenv/lib/python3.6/site-packages (from packaging>=14.3->google-api-core<2.0.0dev,>=1.21.0->google-cloud-core<2.0dev,>=1.4.1->google-cloud-storage<1.39.0,>=1.38.0->allennlp==2.5.0) (2.4.7)\n",
      "Requirement already satisfied: wcwidth in /home/mhagiwara/dev/realworldnlp/.pyenv/lib/python3.6/site-packages (from prompt-toolkit!=3.0.0,!=3.0.1,<3.1.0,>=2.0.0->ipython>=4.0.0->ipywidgets>=7.5->checklist==0.0.11->allennlp==2.5.0) (0.2.5)\n",
      "Requirement already satisfied: pyasn1<0.5.0,>=0.4.6 in /home/mhagiwara/dev/realworldnlp/.pyenv/lib/python3.6/site-packages (from pyasn1-modules>=0.2.1->google-auth<2.0dev,>=1.11.0->google-cloud-storage<1.39.0,>=1.38.0->allennlp==2.5.0) (0.4.8)\n",
      "Requirement already satisfied: idna<3,>=2.5 in /home/mhagiwara/dev/realworldnlp/.pyenv/lib/python3.6/site-packages (from requests>=2.18->allennlp==2.5.0) (2.10)\n",
      "Requirement already satisfied: certifi>=2017.4.17 in /home/mhagiwara/dev/realworldnlp/.pyenv/lib/python3.6/site-packages (from requests>=2.18->allennlp==2.5.0) (2020.6.20)\n",
      "Requirement already satisfied: chardet<4,>=3.0.2 in /home/mhagiwara/dev/realworldnlp/.pyenv/lib/python3.6/site-packages (from requests>=2.18->allennlp==2.5.0) (3.0.4)\n",
      "Requirement already satisfied: blis<0.5.0,>=0.4.0 in /home/mhagiwara/dev/realworldnlp/.pyenv/lib/python3.6/site-packages (from spacy<3.1,>=2.1.0->allennlp==2.5.0) (0.4.1)\n",
      "Requirement already satisfied: catalogue<1.1.0,>=0.0.7 in /home/mhagiwara/dev/realworldnlp/.pyenv/lib/python3.6/site-packages (from spacy<3.1,>=2.1.0->allennlp==2.5.0) (1.0.0)\n",
      "Requirement already satisfied: wasabi<1.1.0,>=0.4.0 in /home/mhagiwara/dev/realworldnlp/.pyenv/lib/python3.6/site-packages (from spacy<3.1,>=2.1.0->allennlp==2.5.0) (0.8.0)\n",
      "Requirement already satisfied: thinc==7.4.0 in /home/mhagiwara/dev/realworldnlp/.pyenv/lib/python3.6/site-packages (from spacy<3.1,>=2.1.0->allennlp==2.5.0) (7.4.0)\n",
      "Requirement already satisfied: cymem<2.1.0,>=2.0.2 in /home/mhagiwara/dev/realworldnlp/.pyenv/lib/python3.6/site-packages (from spacy<3.1,>=2.1.0->allennlp==2.5.0) (2.0.3)\n",
      "Requirement already satisfied: srsly<1.1.0,>=1.0.2 in /home/mhagiwara/dev/realworldnlp/.pyenv/lib/python3.6/site-packages (from spacy<3.1,>=2.1.0->allennlp==2.5.0) (1.0.2)\n",
      "Requirement already satisfied: plac<1.2.0,>=0.9.6 in /home/mhagiwara/dev/realworldnlp/.pyenv/lib/python3.6/site-packages (from spacy<3.1,>=2.1.0->allennlp==2.5.0) (1.1.3)\n",
      "Requirement already satisfied: preshed<3.1.0,>=3.0.2 in /home/mhagiwara/dev/realworldnlp/.pyenv/lib/python3.6/site-packages (from spacy<3.1,>=2.1.0->allennlp==2.5.0) (3.0.2)\n",
      "Requirement already satisfied: murmurhash<1.1.0,>=0.28.0 in /home/mhagiwara/dev/realworldnlp/.pyenv/lib/python3.6/site-packages (from spacy<3.1,>=2.1.0->allennlp==2.5.0) (1.0.2)\n",
      "Requirement already satisfied: zipp>=0.5 in /home/mhagiwara/dev/realworldnlp/.pyenv/lib/python3.6/site-packages (from importlib-metadata->huggingface-hub>=0.0.8->allennlp==2.5.0) (3.1.0)\n",
      "Requirement already satisfied: typing-extensions in /home/mhagiwara/dev/realworldnlp/.pyenv/lib/python3.6/site-packages (from torch<1.9.0,>=1.6.0->allennlp==2.5.0) (3.7.4.3)\n"
     ]
    },
    {
     "name": "stdout",
     "output_type": "stream",
     "text": [
      "Requirement already satisfied: pillow>=4.1.1 in /home/mhagiwara/dev/realworldnlp/.pyenv/lib/python3.6/site-packages (from torchvision<0.10.0,>=0.8.1->allennlp==2.5.0) (8.0.1)\n",
      "Requirement already satisfied: tokenizers<0.11,>=0.10.1 in /home/mhagiwara/dev/realworldnlp/.pyenv/lib/python3.6/site-packages (from transformers<4.7,>=4.1->allennlp==2.5.0) (0.10.3)\n",
      "Requirement already satisfied: sacremoses in /home/mhagiwara/dev/realworldnlp/.pyenv/lib/python3.6/site-packages (from transformers<4.7,>=4.1->allennlp==2.5.0) (0.0.43)\n",
      "Requirement already satisfied: regex!=2019.12.17 in /home/mhagiwara/dev/realworldnlp/.pyenv/lib/python3.6/site-packages (from transformers<4.7,>=4.1->allennlp==2.5.0) (2020.7.14)\n",
      "Requirement already satisfied: Click!=8.0.0,>=7.0 in /home/mhagiwara/dev/realworldnlp/.pyenv/lib/python3.6/site-packages (from wandb<0.11.0,>=0.10.0->allennlp==2.5.0) (7.1.2)\n",
      "Requirement already satisfied: GitPython>=1.0.0 in /home/mhagiwara/dev/realworldnlp/.pyenv/lib/python3.6/site-packages (from wandb<0.11.0,>=0.10.0->allennlp==2.5.0) (3.1.18)\n",
      "Requirement already satisfied: shortuuid>=0.5.0 in /home/mhagiwara/dev/realworldnlp/.pyenv/lib/python3.6/site-packages (from wandb<0.11.0,>=0.10.0->allennlp==2.5.0) (1.0.1)\n",
      "Requirement already satisfied: sentry-sdk>=0.4.0 in /home/mhagiwara/dev/realworldnlp/.pyenv/lib/python3.6/site-packages (from wandb<0.11.0,>=0.10.0->allennlp==2.5.0) (1.3.0)\n",
      "Requirement already satisfied: promise<3,>=2.0 in /home/mhagiwara/dev/realworldnlp/.pyenv/lib/python3.6/site-packages (from wandb<0.11.0,>=0.10.0->allennlp==2.5.0) (2.3)\n",
      "Requirement already satisfied: configparser>=3.8.1 in /home/mhagiwara/dev/realworldnlp/.pyenv/lib/python3.6/site-packages (from wandb<0.11.0,>=0.10.0->allennlp==2.5.0) (5.0.2)\n",
      "Requirement already satisfied: psutil>=5.0.0 in /home/mhagiwara/dev/realworldnlp/.pyenv/lib/python3.6/site-packages (from wandb<0.11.0,>=0.10.0->allennlp==2.5.0) (5.8.0)\n",
      "Requirement already satisfied: PyYAML in /home/mhagiwara/dev/realworldnlp/.pyenv/lib/python3.6/site-packages (from wandb<0.11.0,>=0.10.0->allennlp==2.5.0) (5.3.1)\n",
      "Requirement already satisfied: docker-pycreds>=0.4.0 in /home/mhagiwara/dev/realworldnlp/.pyenv/lib/python3.6/site-packages (from wandb<0.11.0,>=0.10.0->allennlp==2.5.0) (0.4.0)\n",
      "Requirement already satisfied: pathtools in /home/mhagiwara/dev/realworldnlp/.pyenv/lib/python3.6/site-packages (from wandb<0.11.0,>=0.10.0->allennlp==2.5.0) (0.1.2)\n",
      "Requirement already satisfied: subprocess32>=3.5.3 in /home/mhagiwara/dev/realworldnlp/.pyenv/lib/python3.6/site-packages (from wandb<0.11.0,>=0.10.0->allennlp==2.5.0) (3.5.4)\n",
      "Requirement already satisfied: gitdb<5,>=4.0.1 in /home/mhagiwara/dev/realworldnlp/.pyenv/lib/python3.6/site-packages (from GitPython>=1.0.0->wandb<0.11.0,>=0.10.0->allennlp==2.5.0) (4.0.7)\n",
      "Requirement already satisfied: smmap<5,>=3.0.1 in /home/mhagiwara/dev/realworldnlp/.pyenv/lib/python3.6/site-packages (from gitdb<5,>=4.0.1->GitPython>=1.0.0->wandb<0.11.0,>=0.10.0->allennlp==2.5.0) (4.0.0)\n",
      "Requirement already satisfied: pyzmq>=17 in /home/mhagiwara/dev/realworldnlp/.pyenv/lib/python3.6/site-packages (from notebook->jupyter>=1.0->checklist==0.0.11->allennlp==2.5.0) (19.0.1)\n",
      "Requirement already satisfied: terminado>=0.8.1 in /home/mhagiwara/dev/realworldnlp/.pyenv/lib/python3.6/site-packages (from notebook->jupyter>=1.0->checklist==0.0.11->allennlp==2.5.0) (0.8.3)\n",
      "Requirement already satisfied: Send2Trash in /home/mhagiwara/dev/realworldnlp/.pyenv/lib/python3.6/site-packages (from notebook->jupyter>=1.0->checklist==0.0.11->allennlp==2.5.0) (1.5.0)\n",
      "Requirement already satisfied: jinja2 in /home/mhagiwara/dev/realworldnlp/.pyenv/lib/python3.6/site-packages (from notebook->jupyter>=1.0->checklist==0.0.11->allennlp==2.5.0) (2.11.2)\n",
      "Requirement already satisfied: prometheus-client in /home/mhagiwara/dev/realworldnlp/.pyenv/lib/python3.6/site-packages (from notebook->jupyter>=1.0->checklist==0.0.11->allennlp==2.5.0) (0.8.0)\n",
      "Requirement already satisfied: ptyprocess in /home/mhagiwara/dev/realworldnlp/.pyenv/lib/python3.6/site-packages (from terminado>=0.8.1->notebook->jupyter>=1.0->checklist==0.0.11->allennlp==2.5.0) (0.6.0)\n",
      "Requirement already satisfied: MarkupSafe>=0.23 in /home/mhagiwara/dev/realworldnlp/.pyenv/lib/python3.6/site-packages (from jinja2->notebook->jupyter>=1.0->checklist==0.0.11->allennlp==2.5.0) (1.1.1)\n",
      "Requirement already satisfied: testpath in /home/mhagiwara/dev/realworldnlp/.pyenv/lib/python3.6/site-packages (from nbconvert->jupyter>=1.0->checklist==0.0.11->allennlp==2.5.0) (0.4.4)\n",
      "Requirement already satisfied: entrypoints>=0.2.2 in /home/mhagiwara/dev/realworldnlp/.pyenv/lib/python3.6/site-packages (from nbconvert->jupyter>=1.0->checklist==0.0.11->allennlp==2.5.0) (0.3)\n",
      "Requirement already satisfied: defusedxml in /home/mhagiwara/dev/realworldnlp/.pyenv/lib/python3.6/site-packages (from nbconvert->jupyter>=1.0->checklist==0.0.11->allennlp==2.5.0) (0.6.0)\n",
      "Requirement already satisfied: mistune<2,>=0.8.1 in /home/mhagiwara/dev/realworldnlp/.pyenv/lib/python3.6/site-packages (from nbconvert->jupyter>=1.0->checklist==0.0.11->allennlp==2.5.0) (0.8.4)\n",
      "Requirement already satisfied: bleach in /home/mhagiwara/dev/realworldnlp/.pyenv/lib/python3.6/site-packages (from nbconvert->jupyter>=1.0->checklist==0.0.11->allennlp==2.5.0) (3.1.5)\n",
      "Requirement already satisfied: pandocfilters>=1.4.1 in /home/mhagiwara/dev/realworldnlp/.pyenv/lib/python3.6/site-packages (from nbconvert->jupyter>=1.0->checklist==0.0.11->allennlp==2.5.0) (1.4.2)\n",
      "Requirement already satisfied: webencodings in /home/mhagiwara/dev/realworldnlp/.pyenv/lib/python3.6/site-packages (from bleach->nbconvert->jupyter>=1.0->checklist==0.0.11->allennlp==2.5.0) (0.5.1)\n",
      "Requirement already satisfied: joblib in /home/mhagiwara/dev/realworldnlp/.pyenv/lib/python3.6/site-packages (from nltk->allennlp==2.5.0) (0.16.0)\n",
      "Requirement already satisfied: future in /home/mhagiwara/dev/realworldnlp/.pyenv/lib/python3.6/site-packages (from patternfork-nosql->checklist==0.0.11->allennlp==2.5.0) (0.18.2)\n",
      "Requirement already satisfied: backports.csv in /home/mhagiwara/dev/realworldnlp/.pyenv/lib/python3.6/site-packages (from patternfork-nosql->checklist==0.0.11->allennlp==2.5.0) (1.0.7)\n",
      "Requirement already satisfied: beautifulsoup4 in /home/mhagiwara/dev/realworldnlp/.pyenv/lib/python3.6/site-packages (from patternfork-nosql->checklist==0.0.11->allennlp==2.5.0) (4.9.3)\n",
      "Requirement already satisfied: lxml in /home/mhagiwara/dev/realworldnlp/.pyenv/lib/python3.6/site-packages (from patternfork-nosql->checklist==0.0.11->allennlp==2.5.0) (4.6.3)\n",
      "Requirement already satisfied: feedparser in /home/mhagiwara/dev/realworldnlp/.pyenv/lib/python3.6/site-packages (from patternfork-nosql->checklist==0.0.11->allennlp==2.5.0) (6.0.8)\n",
      "Requirement already satisfied: pdfminer.six in /home/mhagiwara/dev/realworldnlp/.pyenv/lib/python3.6/site-packages (from patternfork-nosql->checklist==0.0.11->allennlp==2.5.0) (20201018)\n",
      "Requirement already satisfied: python-docx in /home/mhagiwara/dev/realworldnlp/.pyenv/lib/python3.6/site-packages (from patternfork-nosql->checklist==0.0.11->allennlp==2.5.0) (0.8.11)\n",
      "Requirement already satisfied: cherrypy in /home/mhagiwara/dev/realworldnlp/.pyenv/lib/python3.6/site-packages (from patternfork-nosql->checklist==0.0.11->allennlp==2.5.0) (18.6.1)\n",
      "Requirement already satisfied: soupsieve>1.2 in /home/mhagiwara/dev/realworldnlp/.pyenv/lib/python3.6/site-packages (from beautifulsoup4->patternfork-nosql->checklist==0.0.11->allennlp==2.5.0) (2.2.1)\n",
      "Requirement already satisfied: cheroot>=8.2.1 in /home/mhagiwara/dev/realworldnlp/.pyenv/lib/python3.6/site-packages (from cherrypy->patternfork-nosql->checklist==0.0.11->allennlp==2.5.0) (8.5.2)\n",
      "Requirement already satisfied: jaraco.collections in /home/mhagiwara/dev/realworldnlp/.pyenv/lib/python3.6/site-packages (from cherrypy->patternfork-nosql->checklist==0.0.11->allennlp==2.5.0) (3.3.0)\n",
      "Requirement already satisfied: portend>=2.1.1 in /home/mhagiwara/dev/realworldnlp/.pyenv/lib/python3.6/site-packages (from cherrypy->patternfork-nosql->checklist==0.0.11->allennlp==2.5.0) (2.7.1)\n",
      "Requirement already satisfied: zc.lockfile in /home/mhagiwara/dev/realworldnlp/.pyenv/lib/python3.6/site-packages (from cherrypy->patternfork-nosql->checklist==0.0.11->allennlp==2.5.0) (2.0)\n"
     ]
    },
    {
     "name": "stdout",
     "output_type": "stream",
     "text": [
      "Requirement already satisfied: jaraco.functools in /home/mhagiwara/dev/realworldnlp/.pyenv/lib/python3.6/site-packages (from cheroot>=8.2.1->cherrypy->patternfork-nosql->checklist==0.0.11->allennlp==2.5.0) (3.3.0)\n",
      "Requirement already satisfied: tempora>=1.8 in /home/mhagiwara/dev/realworldnlp/.pyenv/lib/python3.6/site-packages (from portend>=2.1.1->cherrypy->patternfork-nosql->checklist==0.0.11->allennlp==2.5.0) (4.1.1)\n",
      "Requirement already satisfied: sgmllib3k in /home/mhagiwara/dev/realworldnlp/.pyenv/lib/python3.6/site-packages (from feedparser->patternfork-nosql->checklist==0.0.11->allennlp==2.5.0) (1.0.0)\n",
      "Requirement already satisfied: jaraco.classes in /home/mhagiwara/dev/realworldnlp/.pyenv/lib/python3.6/site-packages (from jaraco.collections->cherrypy->patternfork-nosql->checklist==0.0.11->allennlp==2.5.0) (3.2.1)\n",
      "Requirement already satisfied: jaraco.text in /home/mhagiwara/dev/realworldnlp/.pyenv/lib/python3.6/site-packages (from jaraco.collections->cherrypy->patternfork-nosql->checklist==0.0.11->allennlp==2.5.0) (3.5.1)\n",
      "Requirement already satisfied: importlib-resources in /home/mhagiwara/dev/realworldnlp/.pyenv/lib/python3.6/site-packages (from jaraco.text->jaraco.collections->cherrypy->patternfork-nosql->checklist==0.0.11->allennlp==2.5.0) (5.1.2)\n",
      "Requirement already satisfied: cryptography in /home/mhagiwara/dev/realworldnlp/.pyenv/lib/python3.6/site-packages (from pdfminer.six->patternfork-nosql->checklist==0.0.11->allennlp==2.5.0) (3.4.7)\n",
      "Requirement already satisfied: sortedcontainers in /home/mhagiwara/dev/realworldnlp/.pyenv/lib/python3.6/site-packages (from pdfminer.six->patternfork-nosql->checklist==0.0.11->allennlp==2.5.0) (2.4.0)\n",
      "Requirement already satisfied: py>=1.8.2 in /home/mhagiwara/dev/realworldnlp/.pyenv/lib/python3.6/site-packages (from pytest->allennlp==2.5.0) (1.9.0)\n",
      "Requirement already satisfied: pluggy<1.0,>=0.12 in /home/mhagiwara/dev/realworldnlp/.pyenv/lib/python3.6/site-packages (from pytest->allennlp==2.5.0) (0.13.1)\n",
      "Requirement already satisfied: iniconfig in /home/mhagiwara/dev/realworldnlp/.pyenv/lib/python3.6/site-packages (from pytest->allennlp==2.5.0) (1.0.1)\n",
      "Requirement already satisfied: toml in /home/mhagiwara/dev/realworldnlp/.pyenv/lib/python3.6/site-packages (from pytest->allennlp==2.5.0) (0.10.1)\n",
      "Requirement already satisfied: qtpy in /home/mhagiwara/dev/realworldnlp/.pyenv/lib/python3.6/site-packages (from qtconsole->jupyter>=1.0->checklist==0.0.11->allennlp==2.5.0) (1.9.0)\n",
      "Requirement already satisfied: threadpoolctl>=2.0.0 in /home/mhagiwara/dev/realworldnlp/.pyenv/lib/python3.6/site-packages (from scikit-learn->allennlp==2.5.0) (2.1.0)\n",
      "Requirement already satisfied: allennlp-models==2.5.0 in /home/mhagiwara/dev/realworldnlp/.pyenv/lib/python3.6/site-packages (2.5.0)\n",
      "Requirement already satisfied: allennlp<2.6,>=2.5.0 in /home/mhagiwara/dev/realworldnlp/.pyenv/lib/python3.6/site-packages (from allennlp-models==2.5.0) (2.5.0)\n",
      "Requirement already satisfied: word2number>=1.1 in /home/mhagiwara/dev/realworldnlp/.pyenv/lib/python3.6/site-packages (from allennlp-models==2.5.0) (1.1)\n",
      "Requirement already satisfied: torch<1.9.0,>=1.7.0 in /home/mhagiwara/dev/realworldnlp/.pyenv/lib/python3.6/site-packages (from allennlp-models==2.5.0) (1.8.1)\n",
      "Requirement already satisfied: py-rouge==1.1 in /home/mhagiwara/dev/realworldnlp/.pyenv/lib/python3.6/site-packages (from allennlp-models==2.5.0) (1.1)\n",
      "Requirement already satisfied: ftfy in /home/mhagiwara/dev/realworldnlp/.pyenv/lib/python3.6/site-packages (from allennlp-models==2.5.0) (6.0.3)\n",
      "Requirement already satisfied: nltk in /home/mhagiwara/dev/realworldnlp/.pyenv/lib/python3.6/site-packages (from allennlp-models==2.5.0) (3.5)\n",
      "Requirement already satisfied: conllu==4.4 in /home/mhagiwara/dev/realworldnlp/.pyenv/lib/python3.6/site-packages (from allennlp-models==2.5.0) (4.4)\n",
      "Requirement already satisfied: lmdb in /home/mhagiwara/dev/realworldnlp/.pyenv/lib/python3.6/site-packages (from allennlp<2.6,>=2.5.0->allennlp-models==2.5.0) (1.2.1)\n",
      "Requirement already satisfied: spacy<3.1,>=2.1.0 in /home/mhagiwara/dev/realworldnlp/.pyenv/lib/python3.6/site-packages (from allennlp<2.6,>=2.5.0->allennlp-models==2.5.0) (2.2.4)\n",
      "Requirement already satisfied: huggingface-hub>=0.0.8 in /home/mhagiwara/dev/realworldnlp/.pyenv/lib/python3.6/site-packages (from allennlp<2.6,>=2.5.0->allennlp-models==2.5.0) (0.0.8)\n",
      "Requirement already satisfied: pytest in /home/mhagiwara/dev/realworldnlp/.pyenv/lib/python3.6/site-packages (from allennlp<2.6,>=2.5.0->allennlp-models==2.5.0) (6.0.1)\n",
      "Requirement already satisfied: dataclasses in /home/mhagiwara/dev/realworldnlp/.pyenv/lib/python3.6/site-packages (from allennlp<2.6,>=2.5.0->allennlp-models==2.5.0) (0.7)\n",
      "Requirement already satisfied: wandb<0.11.0,>=0.10.0 in /home/mhagiwara/dev/realworldnlp/.pyenv/lib/python3.6/site-packages (from allennlp<2.6,>=2.5.0->allennlp-models==2.5.0) (0.10.33)\n",
      "Requirement already satisfied: torchvision<0.10.0,>=0.8.1 in /home/mhagiwara/dev/realworldnlp/.pyenv/lib/python3.6/site-packages (from allennlp<2.6,>=2.5.0->allennlp-models==2.5.0) (0.9.1)\n",
      "Requirement already satisfied: numpy in /home/mhagiwara/dev/realworldnlp/.pyenv/lib/python3.6/site-packages (from allennlp<2.6,>=2.5.0->allennlp-models==2.5.0) (1.19.1)\n",
      "Requirement already satisfied: filelock<3.1,>=3.0 in /home/mhagiwara/dev/realworldnlp/.pyenv/lib/python3.6/site-packages (from allennlp<2.6,>=2.5.0->allennlp-models==2.5.0) (3.0.12)\n",
      "Requirement already satisfied: scipy in /home/mhagiwara/dev/realworldnlp/.pyenv/lib/python3.6/site-packages (from allennlp<2.6,>=2.5.0->allennlp-models==2.5.0) (1.5.2)\n",
      "Requirement already satisfied: jsonnet>=0.10.0 in /home/mhagiwara/dev/realworldnlp/.pyenv/lib/python3.6/site-packages (from allennlp<2.6,>=2.5.0->allennlp-models==2.5.0) (0.16.0)\n",
      "Requirement already satisfied: boto3<2.0,>=1.14 in /home/mhagiwara/dev/realworldnlp/.pyenv/lib/python3.6/site-packages (from allennlp<2.6,>=2.5.0->allennlp-models==2.5.0) (1.14.56)\n",
      "Requirement already satisfied: termcolor==1.1.0 in /home/mhagiwara/dev/realworldnlp/.pyenv/lib/python3.6/site-packages (from allennlp<2.6,>=2.5.0->allennlp-models==2.5.0) (1.1.0)\n",
      "Requirement already satisfied: h5py in /home/mhagiwara/dev/realworldnlp/.pyenv/lib/python3.6/site-packages (from allennlp<2.6,>=2.5.0->allennlp-models==2.5.0) (2.10.0)\n",
      "Requirement already satisfied: tqdm>=4.19 in /home/mhagiwara/dev/realworldnlp/.pyenv/lib/python3.6/site-packages (from allennlp<2.6,>=2.5.0->allennlp-models==2.5.0) (4.48.2)\n",
      "Requirement already satisfied: google-cloud-storage<1.39.0,>=1.38.0 in /home/mhagiwara/dev/realworldnlp/.pyenv/lib/python3.6/site-packages (from allennlp<2.6,>=2.5.0->allennlp-models==2.5.0) (1.38.0)\n",
      "Requirement already satisfied: requests>=2.18 in /home/mhagiwara/dev/realworldnlp/.pyenv/lib/python3.6/site-packages (from allennlp<2.6,>=2.5.0->allennlp-models==2.5.0) (2.24.0)\n",
      "Requirement already satisfied: more-itertools in /home/mhagiwara/dev/realworldnlp/.pyenv/lib/python3.6/site-packages (from allennlp<2.6,>=2.5.0->allennlp-models==2.5.0) (8.5.0)\n",
      "Requirement already satisfied: tensorboardX>=1.2 in /home/mhagiwara/dev/realworldnlp/.pyenv/lib/python3.6/site-packages (from allennlp<2.6,>=2.5.0->allennlp-models==2.5.0) (2.1)\n",
      "Requirement already satisfied: overrides==3.1.0 in /home/mhagiwara/dev/realworldnlp/.pyenv/lib/python3.6/site-packages (from allennlp<2.6,>=2.5.0->allennlp-models==2.5.0) (3.1.0)\n",
      "Requirement already satisfied: scikit-learn in /home/mhagiwara/dev/realworldnlp/.pyenv/lib/python3.6/site-packages (from allennlp<2.6,>=2.5.0->allennlp-models==2.5.0) (0.23.2)\n",
      "Requirement already satisfied: checklist==0.0.11 in /home/mhagiwara/dev/realworldnlp/.pyenv/lib/python3.6/site-packages (from allennlp<2.6,>=2.5.0->allennlp-models==2.5.0) (0.0.11)\n",
      "Requirement already satisfied: transformers<4.7,>=4.1 in /home/mhagiwara/dev/realworldnlp/.pyenv/lib/python3.6/site-packages (from allennlp<2.6,>=2.5.0->allennlp-models==2.5.0) (4.6.1)\n",
      "Requirement already satisfied: sentencepiece in /home/mhagiwara/dev/realworldnlp/.pyenv/lib/python3.6/site-packages (from allennlp<2.6,>=2.5.0->allennlp-models==2.5.0) (0.1.92)\n",
      "Requirement already satisfied: munch>=2.5 in /home/mhagiwara/dev/realworldnlp/.pyenv/lib/python3.6/site-packages (from checklist==0.0.11->allennlp<2.6,>=2.5.0->allennlp-models==2.5.0) (2.5.0)\n",
      "Requirement already satisfied: dill>=0.3.1 in /home/mhagiwara/dev/realworldnlp/.pyenv/lib/python3.6/site-packages (from checklist==0.0.11->allennlp<2.6,>=2.5.0->allennlp-models==2.5.0) (0.3.3)\n",
      "Requirement already satisfied: jupyter>=1.0 in /home/mhagiwara/dev/realworldnlp/.pyenv/lib/python3.6/site-packages (from checklist==0.0.11->allennlp<2.6,>=2.5.0->allennlp-models==2.5.0) (1.0.0)\n",
      "Requirement already satisfied: ipywidgets>=7.5 in /home/mhagiwara/dev/realworldnlp/.pyenv/lib/python3.6/site-packages (from checklist==0.0.11->allennlp<2.6,>=2.5.0->allennlp-models==2.5.0) (7.5.1)\n",
      "Requirement already satisfied: patternfork-nosql in /home/mhagiwara/dev/realworldnlp/.pyenv/lib/python3.6/site-packages (from checklist==0.0.11->allennlp<2.6,>=2.5.0->allennlp-models==2.5.0) (3.6)\n",
      "Requirement already satisfied: iso-639 in /home/mhagiwara/dev/realworldnlp/.pyenv/lib/python3.6/site-packages (from checklist==0.0.11->allennlp<2.6,>=2.5.0->allennlp-models==2.5.0) (0.4.5)\n",
      "Requirement already satisfied: botocore<1.18.0,>=1.17.56 in /home/mhagiwara/dev/realworldnlp/.pyenv/lib/python3.6/site-packages (from boto3<2.0,>=1.14->allennlp<2.6,>=2.5.0->allennlp-models==2.5.0) (1.17.56)\n",
      "Requirement already satisfied: s3transfer<0.4.0,>=0.3.0 in /home/mhagiwara/dev/realworldnlp/.pyenv/lib/python3.6/site-packages (from boto3<2.0,>=1.14->allennlp<2.6,>=2.5.0->allennlp-models==2.5.0) (0.3.3)\n",
      "Requirement already satisfied: jmespath<1.0.0,>=0.7.1 in /home/mhagiwara/dev/realworldnlp/.pyenv/lib/python3.6/site-packages (from boto3<2.0,>=1.14->allennlp<2.6,>=2.5.0->allennlp-models==2.5.0) (0.10.0)\n",
      "Requirement already satisfied: urllib3<1.26,>=1.20 in /home/mhagiwara/dev/realworldnlp/.pyenv/lib/python3.6/site-packages (from botocore<1.18.0,>=1.17.56->boto3<2.0,>=1.14->allennlp<2.6,>=2.5.0->allennlp-models==2.5.0) (1.25.10)\n",
      "Requirement already satisfied: docutils<0.16,>=0.10 in /home/mhagiwara/dev/realworldnlp/.pyenv/lib/python3.6/site-packages (from botocore<1.18.0,>=1.17.56->boto3<2.0,>=1.14->allennlp<2.6,>=2.5.0->allennlp-models==2.5.0) (0.15.2)\n",
      "Requirement already satisfied: python-dateutil<3.0.0,>=2.1 in /home/mhagiwara/dev/realworldnlp/.pyenv/lib/python3.6/site-packages (from botocore<1.18.0,>=1.17.56->boto3<2.0,>=1.14->allennlp<2.6,>=2.5.0->allennlp-models==2.5.0) (2.8.1)\n"
     ]
    },
    {
     "name": "stdout",
     "output_type": "stream",
     "text": [
      "Requirement already satisfied: google-cloud-core<2.0dev,>=1.4.1 in /home/mhagiwara/dev/realworldnlp/.pyenv/lib/python3.6/site-packages (from google-cloud-storage<1.39.0,>=1.38.0->allennlp<2.6,>=2.5.0->allennlp-models==2.5.0) (1.7.1)\n",
      "Requirement already satisfied: google-resumable-media<2.0dev,>=1.2.0 in /home/mhagiwara/dev/realworldnlp/.pyenv/lib/python3.6/site-packages (from google-cloud-storage<1.39.0,>=1.38.0->allennlp<2.6,>=2.5.0->allennlp-models==2.5.0) (1.3.1)\n",
      "Requirement already satisfied: google-auth<2.0dev,>=1.11.0 in /home/mhagiwara/dev/realworldnlp/.pyenv/lib/python3.6/site-packages (from google-cloud-storage<1.39.0,>=1.38.0->allennlp<2.6,>=2.5.0->allennlp-models==2.5.0) (1.33.1)\n",
      "Requirement already satisfied: pyasn1-modules>=0.2.1 in /home/mhagiwara/dev/realworldnlp/.pyenv/lib/python3.6/site-packages (from google-auth<2.0dev,>=1.11.0->google-cloud-storage<1.39.0,>=1.38.0->allennlp<2.6,>=2.5.0->allennlp-models==2.5.0) (0.2.8)\n",
      "Requirement already satisfied: six>=1.9.0 in /home/mhagiwara/dev/realworldnlp/.pyenv/lib/python3.6/site-packages (from google-auth<2.0dev,>=1.11.0->google-cloud-storage<1.39.0,>=1.38.0->allennlp<2.6,>=2.5.0->allennlp-models==2.5.0) (1.15.0)\n",
      "Requirement already satisfied: cachetools<5.0,>=2.0.0 in /home/mhagiwara/dev/realworldnlp/.pyenv/lib/python3.6/site-packages (from google-auth<2.0dev,>=1.11.0->google-cloud-storage<1.39.0,>=1.38.0->allennlp<2.6,>=2.5.0->allennlp-models==2.5.0) (4.2.2)\n",
      "Requirement already satisfied: rsa<5,>=3.1.4 in /home/mhagiwara/dev/realworldnlp/.pyenv/lib/python3.6/site-packages (from google-auth<2.0dev,>=1.11.0->google-cloud-storage<1.39.0,>=1.38.0->allennlp<2.6,>=2.5.0->allennlp-models==2.5.0) (4.7.2)\n",
      "Requirement already satisfied: setuptools>=40.3.0 in /home/mhagiwara/dev/realworldnlp/.pyenv/lib/python3.6/site-packages (from google-auth<2.0dev,>=1.11.0->google-cloud-storage<1.39.0,>=1.38.0->allennlp<2.6,>=2.5.0->allennlp-models==2.5.0) (50.3.0)\n",
      "Requirement already satisfied: google-api-core<2.0.0dev,>=1.21.0 in /home/mhagiwara/dev/realworldnlp/.pyenv/lib/python3.6/site-packages (from google-cloud-core<2.0dev,>=1.4.1->google-cloud-storage<1.39.0,>=1.38.0->allennlp<2.6,>=2.5.0->allennlp-models==2.5.0) (1.31.0)\n",
      "Requirement already satisfied: googleapis-common-protos<2.0dev,>=1.6.0 in /home/mhagiwara/dev/realworldnlp/.pyenv/lib/python3.6/site-packages (from google-api-core<2.0.0dev,>=1.21.0->google-cloud-core<2.0dev,>=1.4.1->google-cloud-storage<1.39.0,>=1.38.0->allennlp<2.6,>=2.5.0->allennlp-models==2.5.0) (1.53.0)\n",
      "Requirement already satisfied: packaging>=14.3 in /home/mhagiwara/dev/realworldnlp/.pyenv/lib/python3.6/site-packages (from google-api-core<2.0.0dev,>=1.21.0->google-cloud-core<2.0dev,>=1.4.1->google-cloud-storage<1.39.0,>=1.38.0->allennlp<2.6,>=2.5.0->allennlp-models==2.5.0) (21.0)\n",
      "Requirement already satisfied: protobuf>=3.12.0 in /home/mhagiwara/dev/realworldnlp/.pyenv/lib/python3.6/site-packages (from google-api-core<2.0.0dev,>=1.21.0->google-cloud-core<2.0dev,>=1.4.1->google-cloud-storage<1.39.0,>=1.38.0->allennlp<2.6,>=2.5.0->allennlp-models==2.5.0) (3.13.0)\n",
      "Requirement already satisfied: pytz in /home/mhagiwara/dev/realworldnlp/.pyenv/lib/python3.6/site-packages (from google-api-core<2.0.0dev,>=1.21.0->google-cloud-core<2.0dev,>=1.4.1->google-cloud-storage<1.39.0,>=1.38.0->allennlp<2.6,>=2.5.0->allennlp-models==2.5.0) (2021.1)\n",
      "Requirement already satisfied: google-crc32c<2.0dev,>=1.0 in /home/mhagiwara/dev/realworldnlp/.pyenv/lib/python3.6/site-packages (from google-resumable-media<2.0dev,>=1.2.0->google-cloud-storage<1.39.0,>=1.38.0->allennlp<2.6,>=2.5.0->allennlp-models==2.5.0) (1.1.2)\n",
      "Requirement already satisfied: cffi>=1.0.0 in /home/mhagiwara/dev/realworldnlp/.pyenv/lib/python3.6/site-packages (from google-crc32c<2.0dev,>=1.0->google-resumable-media<2.0dev,>=1.2.0->google-cloud-storage<1.39.0,>=1.38.0->allennlp<2.6,>=2.5.0->allennlp-models==2.5.0) (1.14.6)\n",
      "Requirement already satisfied: pycparser in /home/mhagiwara/dev/realworldnlp/.pyenv/lib/python3.6/site-packages (from cffi>=1.0.0->google-crc32c<2.0dev,>=1.0->google-resumable-media<2.0dev,>=1.2.0->google-cloud-storage<1.39.0,>=1.38.0->allennlp<2.6,>=2.5.0->allennlp-models==2.5.0) (2.20)\n",
      "Requirement already satisfied: importlib-metadata in /home/mhagiwara/dev/realworldnlp/.pyenv/lib/python3.6/site-packages (from huggingface-hub>=0.0.8->allennlp<2.6,>=2.5.0->allennlp-models==2.5.0) (1.7.0)\n",
      "Requirement already satisfied: traitlets>=4.3.1 in /home/mhagiwara/dev/realworldnlp/.pyenv/lib/python3.6/site-packages (from ipywidgets>=7.5->checklist==0.0.11->allennlp<2.6,>=2.5.0->allennlp-models==2.5.0) (4.3.3)\n",
      "Requirement already satisfied: nbformat>=4.2.0 in /home/mhagiwara/dev/realworldnlp/.pyenv/lib/python3.6/site-packages (from ipywidgets>=7.5->checklist==0.0.11->allennlp<2.6,>=2.5.0->allennlp-models==2.5.0) (5.0.7)\n",
      "Requirement already satisfied: widgetsnbextension~=3.5.0 in /home/mhagiwara/dev/realworldnlp/.pyenv/lib/python3.6/site-packages (from ipywidgets>=7.5->checklist==0.0.11->allennlp<2.6,>=2.5.0->allennlp-models==2.5.0) (3.5.1)\n",
      "Requirement already satisfied: ipykernel>=4.5.1 in /home/mhagiwara/dev/realworldnlp/.pyenv/lib/python3.6/site-packages (from ipywidgets>=7.5->checklist==0.0.11->allennlp<2.6,>=2.5.0->allennlp-models==2.5.0) (5.3.4)\n",
      "Requirement already satisfied: ipython>=4.0.0 in /home/mhagiwara/dev/realworldnlp/.pyenv/lib/python3.6/site-packages (from ipywidgets>=7.5->checklist==0.0.11->allennlp<2.6,>=2.5.0->allennlp-models==2.5.0) (7.16.1)\n",
      "Requirement already satisfied: tornado>=4.2 in /home/mhagiwara/dev/realworldnlp/.pyenv/lib/python3.6/site-packages (from ipykernel>=4.5.1->ipywidgets>=7.5->checklist==0.0.11->allennlp<2.6,>=2.5.0->allennlp-models==2.5.0) (6.0.4)\n",
      "Requirement already satisfied: jupyter-client in /home/mhagiwara/dev/realworldnlp/.pyenv/lib/python3.6/site-packages (from ipykernel>=4.5.1->ipywidgets>=7.5->checklist==0.0.11->allennlp<2.6,>=2.5.0->allennlp-models==2.5.0) (6.1.6)\n",
      "Requirement already satisfied: pygments in /home/mhagiwara/dev/realworldnlp/.pyenv/lib/python3.6/site-packages (from ipython>=4.0.0->ipywidgets>=7.5->checklist==0.0.11->allennlp<2.6,>=2.5.0->allennlp-models==2.5.0) (2.6.1)\n",
      "Requirement already satisfied: backcall in /home/mhagiwara/dev/realworldnlp/.pyenv/lib/python3.6/site-packages (from ipython>=4.0.0->ipywidgets>=7.5->checklist==0.0.11->allennlp<2.6,>=2.5.0->allennlp-models==2.5.0) (0.2.0)\n",
      "Requirement already satisfied: prompt-toolkit!=3.0.0,!=3.0.1,<3.1.0,>=2.0.0 in /home/mhagiwara/dev/realworldnlp/.pyenv/lib/python3.6/site-packages (from ipython>=4.0.0->ipywidgets>=7.5->checklist==0.0.11->allennlp<2.6,>=2.5.0->allennlp-models==2.5.0) (3.0.5)\n",
      "Requirement already satisfied: pexpect in /home/mhagiwara/dev/realworldnlp/.pyenv/lib/python3.6/site-packages (from ipython>=4.0.0->ipywidgets>=7.5->checklist==0.0.11->allennlp<2.6,>=2.5.0->allennlp-models==2.5.0) (4.8.0)\n",
      "Requirement already satisfied: pickleshare in /home/mhagiwara/dev/realworldnlp/.pyenv/lib/python3.6/site-packages (from ipython>=4.0.0->ipywidgets>=7.5->checklist==0.0.11->allennlp<2.6,>=2.5.0->allennlp-models==2.5.0) (0.7.5)\n",
      "Requirement already satisfied: decorator in /home/mhagiwara/dev/realworldnlp/.pyenv/lib/python3.6/site-packages (from ipython>=4.0.0->ipywidgets>=7.5->checklist==0.0.11->allennlp<2.6,>=2.5.0->allennlp-models==2.5.0) (4.4.2)\n",
      "Requirement already satisfied: jedi>=0.10 in /home/mhagiwara/dev/realworldnlp/.pyenv/lib/python3.6/site-packages (from ipython>=4.0.0->ipywidgets>=7.5->checklist==0.0.11->allennlp<2.6,>=2.5.0->allennlp-models==2.5.0) (0.17.2)\n",
      "Requirement already satisfied: parso<0.8.0,>=0.7.0 in /home/mhagiwara/dev/realworldnlp/.pyenv/lib/python3.6/site-packages (from jedi>=0.10->ipython>=4.0.0->ipywidgets>=7.5->checklist==0.0.11->allennlp<2.6,>=2.5.0->allennlp-models==2.5.0) (0.7.1)\n",
      "Requirement already satisfied: notebook in /home/mhagiwara/dev/realworldnlp/.pyenv/lib/python3.6/site-packages (from jupyter>=1.0->checklist==0.0.11->allennlp<2.6,>=2.5.0->allennlp-models==2.5.0) (6.0.3)\n",
      "Requirement already satisfied: qtconsole in /home/mhagiwara/dev/realworldnlp/.pyenv/lib/python3.6/site-packages (from jupyter>=1.0->checklist==0.0.11->allennlp<2.6,>=2.5.0->allennlp-models==2.5.0) (4.7.5)\n",
      "Requirement already satisfied: nbconvert in /home/mhagiwara/dev/realworldnlp/.pyenv/lib/python3.6/site-packages (from jupyter>=1.0->checklist==0.0.11->allennlp<2.6,>=2.5.0->allennlp-models==2.5.0) (5.6.1)\n",
      "Requirement already satisfied: jupyter-console in /home/mhagiwara/dev/realworldnlp/.pyenv/lib/python3.6/site-packages (from jupyter>=1.0->checklist==0.0.11->allennlp<2.6,>=2.5.0->allennlp-models==2.5.0) (6.1.0)\n",
      "Requirement already satisfied: jsonschema!=2.5.0,>=2.4 in /home/mhagiwara/dev/realworldnlp/.pyenv/lib/python3.6/site-packages (from nbformat>=4.2.0->ipywidgets>=7.5->checklist==0.0.11->allennlp<2.6,>=2.5.0->allennlp-models==2.5.0) (3.2.0)\n",
      "Requirement already satisfied: jupyter-core in /home/mhagiwara/dev/realworldnlp/.pyenv/lib/python3.6/site-packages (from nbformat>=4.2.0->ipywidgets>=7.5->checklist==0.0.11->allennlp<2.6,>=2.5.0->allennlp-models==2.5.0) (4.6.3)\n",
      "Requirement already satisfied: ipython-genutils in /home/mhagiwara/dev/realworldnlp/.pyenv/lib/python3.6/site-packages (from nbformat>=4.2.0->ipywidgets>=7.5->checklist==0.0.11->allennlp<2.6,>=2.5.0->allennlp-models==2.5.0) (0.2.0)\n"
     ]
    },
    {
     "name": "stdout",
     "output_type": "stream",
     "text": [
      "Requirement already satisfied: attrs>=17.4.0 in /home/mhagiwara/dev/realworldnlp/.pyenv/lib/python3.6/site-packages (from jsonschema!=2.5.0,>=2.4->nbformat>=4.2.0->ipywidgets>=7.5->checklist==0.0.11->allennlp<2.6,>=2.5.0->allennlp-models==2.5.0) (20.2.0)\n",
      "Requirement already satisfied: pyrsistent>=0.14.0 in /home/mhagiwara/dev/realworldnlp/.pyenv/lib/python3.6/site-packages (from jsonschema!=2.5.0,>=2.4->nbformat>=4.2.0->ipywidgets>=7.5->checklist==0.0.11->allennlp<2.6,>=2.5.0->allennlp-models==2.5.0) (0.16.0)\n",
      "Requirement already satisfied: pyparsing>=2.0.2 in /home/mhagiwara/dev/realworldnlp/.pyenv/lib/python3.6/site-packages (from packaging>=14.3->google-api-core<2.0.0dev,>=1.21.0->google-cloud-core<2.0dev,>=1.4.1->google-cloud-storage<1.39.0,>=1.38.0->allennlp<2.6,>=2.5.0->allennlp-models==2.5.0) (2.4.7)\n",
      "Requirement already satisfied: wcwidth in /home/mhagiwara/dev/realworldnlp/.pyenv/lib/python3.6/site-packages (from prompt-toolkit!=3.0.0,!=3.0.1,<3.1.0,>=2.0.0->ipython>=4.0.0->ipywidgets>=7.5->checklist==0.0.11->allennlp<2.6,>=2.5.0->allennlp-models==2.5.0) (0.2.5)\n",
      "Requirement already satisfied: pyasn1<0.5.0,>=0.4.6 in /home/mhagiwara/dev/realworldnlp/.pyenv/lib/python3.6/site-packages (from pyasn1-modules>=0.2.1->google-auth<2.0dev,>=1.11.0->google-cloud-storage<1.39.0,>=1.38.0->allennlp<2.6,>=2.5.0->allennlp-models==2.5.0) (0.4.8)\n",
      "Requirement already satisfied: chardet<4,>=3.0.2 in /home/mhagiwara/dev/realworldnlp/.pyenv/lib/python3.6/site-packages (from requests>=2.18->allennlp<2.6,>=2.5.0->allennlp-models==2.5.0) (3.0.4)\n",
      "Requirement already satisfied: certifi>=2017.4.17 in /home/mhagiwara/dev/realworldnlp/.pyenv/lib/python3.6/site-packages (from requests>=2.18->allennlp<2.6,>=2.5.0->allennlp-models==2.5.0) (2020.6.20)\n",
      "Requirement already satisfied: idna<3,>=2.5 in /home/mhagiwara/dev/realworldnlp/.pyenv/lib/python3.6/site-packages (from requests>=2.18->allennlp<2.6,>=2.5.0->allennlp-models==2.5.0) (2.10)\n",
      "Requirement already satisfied: wasabi<1.1.0,>=0.4.0 in /home/mhagiwara/dev/realworldnlp/.pyenv/lib/python3.6/site-packages (from spacy<3.1,>=2.1.0->allennlp<2.6,>=2.5.0->allennlp-models==2.5.0) (0.8.0)\n",
      "Requirement already satisfied: preshed<3.1.0,>=3.0.2 in /home/mhagiwara/dev/realworldnlp/.pyenv/lib/python3.6/site-packages (from spacy<3.1,>=2.1.0->allennlp<2.6,>=2.5.0->allennlp-models==2.5.0) (3.0.2)\n",
      "Requirement already satisfied: murmurhash<1.1.0,>=0.28.0 in /home/mhagiwara/dev/realworldnlp/.pyenv/lib/python3.6/site-packages (from spacy<3.1,>=2.1.0->allennlp<2.6,>=2.5.0->allennlp-models==2.5.0) (1.0.2)\n",
      "Requirement already satisfied: thinc==7.4.0 in /home/mhagiwara/dev/realworldnlp/.pyenv/lib/python3.6/site-packages (from spacy<3.1,>=2.1.0->allennlp<2.6,>=2.5.0->allennlp-models==2.5.0) (7.4.0)\n",
      "Requirement already satisfied: plac<1.2.0,>=0.9.6 in /home/mhagiwara/dev/realworldnlp/.pyenv/lib/python3.6/site-packages (from spacy<3.1,>=2.1.0->allennlp<2.6,>=2.5.0->allennlp-models==2.5.0) (1.1.3)\n",
      "Requirement already satisfied: blis<0.5.0,>=0.4.0 in /home/mhagiwara/dev/realworldnlp/.pyenv/lib/python3.6/site-packages (from spacy<3.1,>=2.1.0->allennlp<2.6,>=2.5.0->allennlp-models==2.5.0) (0.4.1)\n",
      "Requirement already satisfied: catalogue<1.1.0,>=0.0.7 in /home/mhagiwara/dev/realworldnlp/.pyenv/lib/python3.6/site-packages (from spacy<3.1,>=2.1.0->allennlp<2.6,>=2.5.0->allennlp-models==2.5.0) (1.0.0)\n",
      "Requirement already satisfied: srsly<1.1.0,>=1.0.2 in /home/mhagiwara/dev/realworldnlp/.pyenv/lib/python3.6/site-packages (from spacy<3.1,>=2.1.0->allennlp<2.6,>=2.5.0->allennlp-models==2.5.0) (1.0.2)\n",
      "Requirement already satisfied: cymem<2.1.0,>=2.0.2 in /home/mhagiwara/dev/realworldnlp/.pyenv/lib/python3.6/site-packages (from spacy<3.1,>=2.1.0->allennlp<2.6,>=2.5.0->allennlp-models==2.5.0) (2.0.3)\n",
      "Requirement already satisfied: zipp>=0.5 in /home/mhagiwara/dev/realworldnlp/.pyenv/lib/python3.6/site-packages (from importlib-metadata->huggingface-hub>=0.0.8->allennlp<2.6,>=2.5.0->allennlp-models==2.5.0) (3.1.0)\n",
      "Requirement already satisfied: typing-extensions in /home/mhagiwara/dev/realworldnlp/.pyenv/lib/python3.6/site-packages (from torch<1.9.0,>=1.7.0->allennlp-models==2.5.0) (3.7.4.3)\n",
      "Requirement already satisfied: pillow>=4.1.1 in /home/mhagiwara/dev/realworldnlp/.pyenv/lib/python3.6/site-packages (from torchvision<0.10.0,>=0.8.1->allennlp<2.6,>=2.5.0->allennlp-models==2.5.0) (8.0.1)\n",
      "Requirement already satisfied: sacremoses in /home/mhagiwara/dev/realworldnlp/.pyenv/lib/python3.6/site-packages (from transformers<4.7,>=4.1->allennlp<2.6,>=2.5.0->allennlp-models==2.5.0) (0.0.43)\n",
      "Requirement already satisfied: tokenizers<0.11,>=0.10.1 in /home/mhagiwara/dev/realworldnlp/.pyenv/lib/python3.6/site-packages (from transformers<4.7,>=4.1->allennlp<2.6,>=2.5.0->allennlp-models==2.5.0) (0.10.3)\n",
      "Requirement already satisfied: regex!=2019.12.17 in /home/mhagiwara/dev/realworldnlp/.pyenv/lib/python3.6/site-packages (from transformers<4.7,>=4.1->allennlp<2.6,>=2.5.0->allennlp-models==2.5.0) (2020.7.14)\n",
      "Requirement already satisfied: PyYAML in /home/mhagiwara/dev/realworldnlp/.pyenv/lib/python3.6/site-packages (from wandb<0.11.0,>=0.10.0->allennlp<2.6,>=2.5.0->allennlp-models==2.5.0) (5.3.1)\n",
      "Requirement already satisfied: Click!=8.0.0,>=7.0 in /home/mhagiwara/dev/realworldnlp/.pyenv/lib/python3.6/site-packages (from wandb<0.11.0,>=0.10.0->allennlp<2.6,>=2.5.0->allennlp-models==2.5.0) (7.1.2)\n",
      "Requirement already satisfied: shortuuid>=0.5.0 in /home/mhagiwara/dev/realworldnlp/.pyenv/lib/python3.6/site-packages (from wandb<0.11.0,>=0.10.0->allennlp<2.6,>=2.5.0->allennlp-models==2.5.0) (1.0.1)\n",
      "Requirement already satisfied: configparser>=3.8.1 in /home/mhagiwara/dev/realworldnlp/.pyenv/lib/python3.6/site-packages (from wandb<0.11.0,>=0.10.0->allennlp<2.6,>=2.5.0->allennlp-models==2.5.0) (5.0.2)\n",
      "Requirement already satisfied: subprocess32>=3.5.3 in /home/mhagiwara/dev/realworldnlp/.pyenv/lib/python3.6/site-packages (from wandb<0.11.0,>=0.10.0->allennlp<2.6,>=2.5.0->allennlp-models==2.5.0) (3.5.4)\n",
      "Requirement already satisfied: GitPython>=1.0.0 in /home/mhagiwara/dev/realworldnlp/.pyenv/lib/python3.6/site-packages (from wandb<0.11.0,>=0.10.0->allennlp<2.6,>=2.5.0->allennlp-models==2.5.0) (3.1.18)\n",
      "Requirement already satisfied: sentry-sdk>=0.4.0 in /home/mhagiwara/dev/realworldnlp/.pyenv/lib/python3.6/site-packages (from wandb<0.11.0,>=0.10.0->allennlp<2.6,>=2.5.0->allennlp-models==2.5.0) (1.3.0)\n",
      "Requirement already satisfied: pathtools in /home/mhagiwara/dev/realworldnlp/.pyenv/lib/python3.6/site-packages (from wandb<0.11.0,>=0.10.0->allennlp<2.6,>=2.5.0->allennlp-models==2.5.0) (0.1.2)\n",
      "Requirement already satisfied: promise<3,>=2.0 in /home/mhagiwara/dev/realworldnlp/.pyenv/lib/python3.6/site-packages (from wandb<0.11.0,>=0.10.0->allennlp<2.6,>=2.5.0->allennlp-models==2.5.0) (2.3)\n",
      "Requirement already satisfied: docker-pycreds>=0.4.0 in /home/mhagiwara/dev/realworldnlp/.pyenv/lib/python3.6/site-packages (from wandb<0.11.0,>=0.10.0->allennlp<2.6,>=2.5.0->allennlp-models==2.5.0) (0.4.0)\n",
      "Requirement already satisfied: psutil>=5.0.0 in /home/mhagiwara/dev/realworldnlp/.pyenv/lib/python3.6/site-packages (from wandb<0.11.0,>=0.10.0->allennlp<2.6,>=2.5.0->allennlp-models==2.5.0) (5.8.0)\n",
      "Requirement already satisfied: gitdb<5,>=4.0.1 in /home/mhagiwara/dev/realworldnlp/.pyenv/lib/python3.6/site-packages (from GitPython>=1.0.0->wandb<0.11.0,>=0.10.0->allennlp<2.6,>=2.5.0->allennlp-models==2.5.0) (4.0.7)\n",
      "Requirement already satisfied: smmap<5,>=3.0.1 in /home/mhagiwara/dev/realworldnlp/.pyenv/lib/python3.6/site-packages (from gitdb<5,>=4.0.1->GitPython>=1.0.0->wandb<0.11.0,>=0.10.0->allennlp<2.6,>=2.5.0->allennlp-models==2.5.0) (4.0.0)\n",
      "Requirement already satisfied: jinja2 in /home/mhagiwara/dev/realworldnlp/.pyenv/lib/python3.6/site-packages (from notebook->jupyter>=1.0->checklist==0.0.11->allennlp<2.6,>=2.5.0->allennlp-models==2.5.0) (2.11.2)\n",
      "Requirement already satisfied: terminado>=0.8.1 in /home/mhagiwara/dev/realworldnlp/.pyenv/lib/python3.6/site-packages (from notebook->jupyter>=1.0->checklist==0.0.11->allennlp<2.6,>=2.5.0->allennlp-models==2.5.0) (0.8.3)\n",
      "Requirement already satisfied: prometheus-client in /home/mhagiwara/dev/realworldnlp/.pyenv/lib/python3.6/site-packages (from notebook->jupyter>=1.0->checklist==0.0.11->allennlp<2.6,>=2.5.0->allennlp-models==2.5.0) (0.8.0)\n",
      "Requirement already satisfied: pyzmq>=17 in /home/mhagiwara/dev/realworldnlp/.pyenv/lib/python3.6/site-packages (from notebook->jupyter>=1.0->checklist==0.0.11->allennlp<2.6,>=2.5.0->allennlp-models==2.5.0) (19.0.1)\n",
      "Requirement already satisfied: Send2Trash in /home/mhagiwara/dev/realworldnlp/.pyenv/lib/python3.6/site-packages (from notebook->jupyter>=1.0->checklist==0.0.11->allennlp<2.6,>=2.5.0->allennlp-models==2.5.0) (1.5.0)\n"
     ]
    },
    {
     "name": "stdout",
     "output_type": "stream",
     "text": [
      "Requirement already satisfied: ptyprocess in /home/mhagiwara/dev/realworldnlp/.pyenv/lib/python3.6/site-packages (from terminado>=0.8.1->notebook->jupyter>=1.0->checklist==0.0.11->allennlp<2.6,>=2.5.0->allennlp-models==2.5.0) (0.6.0)\n",
      "Requirement already satisfied: MarkupSafe>=0.23 in /home/mhagiwara/dev/realworldnlp/.pyenv/lib/python3.6/site-packages (from jinja2->notebook->jupyter>=1.0->checklist==0.0.11->allennlp<2.6,>=2.5.0->allennlp-models==2.5.0) (1.1.1)\n",
      "Requirement already satisfied: entrypoints>=0.2.2 in /home/mhagiwara/dev/realworldnlp/.pyenv/lib/python3.6/site-packages (from nbconvert->jupyter>=1.0->checklist==0.0.11->allennlp<2.6,>=2.5.0->allennlp-models==2.5.0) (0.3)\n",
      "Requirement already satisfied: pandocfilters>=1.4.1 in /home/mhagiwara/dev/realworldnlp/.pyenv/lib/python3.6/site-packages (from nbconvert->jupyter>=1.0->checklist==0.0.11->allennlp<2.6,>=2.5.0->allennlp-models==2.5.0) (1.4.2)\n",
      "Requirement already satisfied: mistune<2,>=0.8.1 in /home/mhagiwara/dev/realworldnlp/.pyenv/lib/python3.6/site-packages (from nbconvert->jupyter>=1.0->checklist==0.0.11->allennlp<2.6,>=2.5.0->allennlp-models==2.5.0) (0.8.4)\n",
      "Requirement already satisfied: defusedxml in /home/mhagiwara/dev/realworldnlp/.pyenv/lib/python3.6/site-packages (from nbconvert->jupyter>=1.0->checklist==0.0.11->allennlp<2.6,>=2.5.0->allennlp-models==2.5.0) (0.6.0)\n",
      "Requirement already satisfied: bleach in /home/mhagiwara/dev/realworldnlp/.pyenv/lib/python3.6/site-packages (from nbconvert->jupyter>=1.0->checklist==0.0.11->allennlp<2.6,>=2.5.0->allennlp-models==2.5.0) (3.1.5)\n",
      "Requirement already satisfied: testpath in /home/mhagiwara/dev/realworldnlp/.pyenv/lib/python3.6/site-packages (from nbconvert->jupyter>=1.0->checklist==0.0.11->allennlp<2.6,>=2.5.0->allennlp-models==2.5.0) (0.4.4)\n",
      "Requirement already satisfied: webencodings in /home/mhagiwara/dev/realworldnlp/.pyenv/lib/python3.6/site-packages (from bleach->nbconvert->jupyter>=1.0->checklist==0.0.11->allennlp<2.6,>=2.5.0->allennlp-models==2.5.0) (0.5.1)\n",
      "Requirement already satisfied: joblib in /home/mhagiwara/dev/realworldnlp/.pyenv/lib/python3.6/site-packages (from nltk->allennlp-models==2.5.0) (0.16.0)\n",
      "Requirement already satisfied: future in /home/mhagiwara/dev/realworldnlp/.pyenv/lib/python3.6/site-packages (from patternfork-nosql->checklist==0.0.11->allennlp<2.6,>=2.5.0->allennlp-models==2.5.0) (0.18.2)\n",
      "Requirement already satisfied: backports.csv in /home/mhagiwara/dev/realworldnlp/.pyenv/lib/python3.6/site-packages (from patternfork-nosql->checklist==0.0.11->allennlp<2.6,>=2.5.0->allennlp-models==2.5.0) (1.0.7)\n",
      "Requirement already satisfied: beautifulsoup4 in /home/mhagiwara/dev/realworldnlp/.pyenv/lib/python3.6/site-packages (from patternfork-nosql->checklist==0.0.11->allennlp<2.6,>=2.5.0->allennlp-models==2.5.0) (4.9.3)\n",
      "Requirement already satisfied: lxml in /home/mhagiwara/dev/realworldnlp/.pyenv/lib/python3.6/site-packages (from patternfork-nosql->checklist==0.0.11->allennlp<2.6,>=2.5.0->allennlp-models==2.5.0) (4.6.3)\n",
      "Requirement already satisfied: feedparser in /home/mhagiwara/dev/realworldnlp/.pyenv/lib/python3.6/site-packages (from patternfork-nosql->checklist==0.0.11->allennlp<2.6,>=2.5.0->allennlp-models==2.5.0) (6.0.8)\n",
      "Requirement already satisfied: pdfminer.six in /home/mhagiwara/dev/realworldnlp/.pyenv/lib/python3.6/site-packages (from patternfork-nosql->checklist==0.0.11->allennlp<2.6,>=2.5.0->allennlp-models==2.5.0) (20201018)\n",
      "Requirement already satisfied: python-docx in /home/mhagiwara/dev/realworldnlp/.pyenv/lib/python3.6/site-packages (from patternfork-nosql->checklist==0.0.11->allennlp<2.6,>=2.5.0->allennlp-models==2.5.0) (0.8.11)\n",
      "Requirement already satisfied: cherrypy in /home/mhagiwara/dev/realworldnlp/.pyenv/lib/python3.6/site-packages (from patternfork-nosql->checklist==0.0.11->allennlp<2.6,>=2.5.0->allennlp-models==2.5.0) (18.6.1)\n",
      "Requirement already satisfied: soupsieve>1.2 in /home/mhagiwara/dev/realworldnlp/.pyenv/lib/python3.6/site-packages (from beautifulsoup4->patternfork-nosql->checklist==0.0.11->allennlp<2.6,>=2.5.0->allennlp-models==2.5.0) (2.2.1)\n",
      "Requirement already satisfied: zc.lockfile in /home/mhagiwara/dev/realworldnlp/.pyenv/lib/python3.6/site-packages (from cherrypy->patternfork-nosql->checklist==0.0.11->allennlp<2.6,>=2.5.0->allennlp-models==2.5.0) (2.0)\n",
      "Requirement already satisfied: jaraco.collections in /home/mhagiwara/dev/realworldnlp/.pyenv/lib/python3.6/site-packages (from cherrypy->patternfork-nosql->checklist==0.0.11->allennlp<2.6,>=2.5.0->allennlp-models==2.5.0) (3.3.0)\n",
      "Requirement already satisfied: portend>=2.1.1 in /home/mhagiwara/dev/realworldnlp/.pyenv/lib/python3.6/site-packages (from cherrypy->patternfork-nosql->checklist==0.0.11->allennlp<2.6,>=2.5.0->allennlp-models==2.5.0) (2.7.1)\n",
      "Requirement already satisfied: cheroot>=8.2.1 in /home/mhagiwara/dev/realworldnlp/.pyenv/lib/python3.6/site-packages (from cherrypy->patternfork-nosql->checklist==0.0.11->allennlp<2.6,>=2.5.0->allennlp-models==2.5.0) (8.5.2)\n",
      "Requirement already satisfied: jaraco.functools in /home/mhagiwara/dev/realworldnlp/.pyenv/lib/python3.6/site-packages (from cheroot>=8.2.1->cherrypy->patternfork-nosql->checklist==0.0.11->allennlp<2.6,>=2.5.0->allennlp-models==2.5.0) (3.3.0)\n",
      "Requirement already satisfied: tempora>=1.8 in /home/mhagiwara/dev/realworldnlp/.pyenv/lib/python3.6/site-packages (from portend>=2.1.1->cherrypy->patternfork-nosql->checklist==0.0.11->allennlp<2.6,>=2.5.0->allennlp-models==2.5.0) (4.1.1)\n",
      "Requirement already satisfied: sgmllib3k in /home/mhagiwara/dev/realworldnlp/.pyenv/lib/python3.6/site-packages (from feedparser->patternfork-nosql->checklist==0.0.11->allennlp<2.6,>=2.5.0->allennlp-models==2.5.0) (1.0.0)\n",
      "Requirement already satisfied: jaraco.text in /home/mhagiwara/dev/realworldnlp/.pyenv/lib/python3.6/site-packages (from jaraco.collections->cherrypy->patternfork-nosql->checklist==0.0.11->allennlp<2.6,>=2.5.0->allennlp-models==2.5.0) (3.5.1)\n",
      "Requirement already satisfied: jaraco.classes in /home/mhagiwara/dev/realworldnlp/.pyenv/lib/python3.6/site-packages (from jaraco.collections->cherrypy->patternfork-nosql->checklist==0.0.11->allennlp<2.6,>=2.5.0->allennlp-models==2.5.0) (3.2.1)\n",
      "Requirement already satisfied: importlib-resources in /home/mhagiwara/dev/realworldnlp/.pyenv/lib/python3.6/site-packages (from jaraco.text->jaraco.collections->cherrypy->patternfork-nosql->checklist==0.0.11->allennlp<2.6,>=2.5.0->allennlp-models==2.5.0) (5.1.2)\n",
      "Requirement already satisfied: cryptography in /home/mhagiwara/dev/realworldnlp/.pyenv/lib/python3.6/site-packages (from pdfminer.six->patternfork-nosql->checklist==0.0.11->allennlp<2.6,>=2.5.0->allennlp-models==2.5.0) (3.4.7)\n",
      "Requirement already satisfied: sortedcontainers in /home/mhagiwara/dev/realworldnlp/.pyenv/lib/python3.6/site-packages (from pdfminer.six->patternfork-nosql->checklist==0.0.11->allennlp<2.6,>=2.5.0->allennlp-models==2.5.0) (2.4.0)\n",
      "Requirement already satisfied: toml in /home/mhagiwara/dev/realworldnlp/.pyenv/lib/python3.6/site-packages (from pytest->allennlp<2.6,>=2.5.0->allennlp-models==2.5.0) (0.10.1)\n",
      "Requirement already satisfied: pluggy<1.0,>=0.12 in /home/mhagiwara/dev/realworldnlp/.pyenv/lib/python3.6/site-packages (from pytest->allennlp<2.6,>=2.5.0->allennlp-models==2.5.0) (0.13.1)\n",
      "Requirement already satisfied: py>=1.8.2 in /home/mhagiwara/dev/realworldnlp/.pyenv/lib/python3.6/site-packages (from pytest->allennlp<2.6,>=2.5.0->allennlp-models==2.5.0) (1.9.0)\n",
      "Requirement already satisfied: iniconfig in /home/mhagiwara/dev/realworldnlp/.pyenv/lib/python3.6/site-packages (from pytest->allennlp<2.6,>=2.5.0->allennlp-models==2.5.0) (1.0.1)\n",
      "Requirement already satisfied: qtpy in /home/mhagiwara/dev/realworldnlp/.pyenv/lib/python3.6/site-packages (from qtconsole->jupyter>=1.0->checklist==0.0.11->allennlp<2.6,>=2.5.0->allennlp-models==2.5.0) (1.9.0)\n",
      "Requirement already satisfied: threadpoolctl>=2.0.0 in /home/mhagiwara/dev/realworldnlp/.pyenv/lib/python3.6/site-packages (from scikit-learn->allennlp<2.6,>=2.5.0->allennlp-models==2.5.0) (2.1.0)\n",
      "Cloning into 'realworldnlp'...\n",
      "remote: Enumerating objects: 598, done.\u001b[K\n",
      "remote: Counting objects: 100% (119/119), done.\u001b[K\n"
     ]
    },
    {
     "name": "stdout",
     "output_type": "stream",
     "text": [
      "remote: Compressing objects: 100% (88/88), done.\u001b[K\n",
      "remote: Total 598 (delta 67), reused 71 (delta 30), pack-reused 479\u001b[K\n",
      "Receiving objects: 100% (598/598), 4.93 MiB | 10.20 MiB/s, done.\n",
      "Resolving deltas: 100% (318/318), done.\n",
      "/home/mhagiwara/dev/realworldnlp/examples/sentiment/realworldnlp\n"
     ]
    }
   ],
   "source": [
    "!pip install allennlp==2.5.0\n",
    "!pip install allennlp-models==2.5.0\n",
    "!git clone https://github.com/mhagiwara/realworldnlp.git\n",
    "%cd realworldnlp"
   ]
  },
  {
   "cell_type": "code",
   "execution_count": 2,
   "metadata": {},
   "outputs": [],
   "source": [
    "from itertools import chain\n",
    "from typing import Dict\n",
    "\n",
    "import numpy as np\n",
    "import torch\n",
    "import torch.optim as optim\n",
    "from allennlp.data.data_loaders import MultiProcessDataLoader\n",
    "from allennlp.data.samplers import BucketBatchSampler\n",
    "from allennlp.data.tokenizers import SpacyTokenizer\n",
    "from allennlp.data.vocabulary import Vocabulary\n",
    "from allennlp.models import Model\n",
    "from allennlp.modules.seq2vec_encoders import Seq2VecEncoder, PytorchSeq2VecWrapper\n",
    "from allennlp.modules.text_field_embedders import TextFieldEmbedder, BasicTextFieldEmbedder\n",
    "from allennlp.modules.token_embedders import Embedding\n",
    "from allennlp.nn.util import get_text_field_mask\n",
    "from allennlp.training import GradientDescentTrainer\n",
    "from allennlp.training.metrics import CategoricalAccuracy, F1Measure\n",
    "from allennlp_models.classification.dataset_readers.stanford_sentiment_tree_bank import \\\n",
    "    StanfordSentimentTreeBankDatasetReader\n",
    "\n",
    "from realworldnlp.predictors import SentenceClassifierPredictor"
   ]
  },
  {
   "cell_type": "code",
   "execution_count": 3,
   "metadata": {},
   "outputs": [],
   "source": [
    "EMBEDDING_DIM = 128\n",
    "HIDDEN_DIM = 128"
   ]
  },
  {
   "cell_type": "code",
   "execution_count": 4,
   "metadata": {},
   "outputs": [],
   "source": [
    "# Model in AllenNLP represents a model that is trained.\n",
    "class LstmClassifier(Model):\n",
    "    def __init__(self,\n",
    "                 embedder: TextFieldEmbedder,\n",
    "                 encoder: Seq2VecEncoder,\n",
    "                 vocab: Vocabulary,\n",
    "                 positive_label: str = '4') -> None:\n",
    "        super().__init__(vocab)\n",
    "        # We need the embeddings to convert word IDs to their vector representations\n",
    "        self.embedder = embedder\n",
    "\n",
    "        self.encoder = encoder\n",
    "\n",
    "        # After converting a sequence of vectors to a single vector, we feed it into\n",
    "        # a fully-connected linear layer to reduce the dimension to the total number of labels.\n",
    "        self.linear = torch.nn.Linear(in_features=encoder.get_output_dim(),\n",
    "                                      out_features=vocab.get_vocab_size('labels'))\n",
    "\n",
    "        # Monitor the metrics - we use accuracy, as well as prec, rec, f1 for 4 (very positive)\n",
    "        positive_index = vocab.get_token_index(positive_label, namespace='labels')\n",
    "        self.accuracy = CategoricalAccuracy()\n",
    "        self.f1_measure = F1Measure(positive_index)\n",
    "\n",
    "        # We use the cross entropy loss because this is a classification task.\n",
    "        # Note that PyTorch's CrossEntropyLoss combines softmax and log likelihood loss,\n",
    "        # which makes it unnecessary to add a separate softmax layer.\n",
    "        self.loss_function = torch.nn.CrossEntropyLoss()\n",
    "\n",
    "    # Instances are fed to forward after batching.\n",
    "    # Fields are passed through arguments with the same name.\n",
    "    def forward(self,\n",
    "                tokens: Dict[str, torch.Tensor],\n",
    "                label: torch.Tensor = None) -> torch.Tensor:\n",
    "        # In deep NLP, when sequences of tensors in different lengths are batched together,\n",
    "        # shorter sequences get padded with zeros to make them equal length.\n",
    "        # Masking is the process to ignore extra zeros added by padding\n",
    "        mask = get_text_field_mask(tokens)\n",
    "\n",
    "        # Forward pass\n",
    "        embeddings = self.embedder(tokens)\n",
    "        encoder_out = self.encoder(embeddings, mask)\n",
    "        logits = self.linear(encoder_out)\n",
    "\n",
    "        # In AllenNLP, the output of forward() is a dictionary.\n",
    "        # Your output dictionary must contain a \"loss\" key for your model to be trained.\n",
    "        output = {\"logits\": logits}\n",
    "        if label is not None:\n",
    "            self.accuracy(logits, label)\n",
    "            self.f1_measure(logits, label)\n",
    "            output[\"loss\"] = self.loss_function(logits, label)\n",
    "\n",
    "        return output\n",
    "\n",
    "    def get_metrics(self, reset: bool = False) -> Dict[str, float]:\n",
    "        return {'accuracy': self.accuracy.get_metric(reset),\n",
    "                **self.f1_measure.get_metric(reset)}"
   ]
  },
  {
   "cell_type": "code",
   "execution_count": 5,
   "metadata": {},
   "outputs": [],
   "source": [
    "reader = StanfordSentimentTreeBankDatasetReader(tokenizer=SpacyTokenizer())\n",
    "train_path = 'https://s3.amazonaws.com/realworldnlpbook/data/stanfordSentimentTreebank/trees/train.txt'\n",
    "dev_path = 'https://s3.amazonaws.com/realworldnlpbook/data/stanfordSentimentTreebank/trees/dev.txt'"
   ]
  },
  {
   "cell_type": "code",
   "execution_count": 6,
   "metadata": {},
   "outputs": [
    {
     "data": {
      "application/vnd.jupyter.widget-view+json": {
       "model_id": "856ae6560fd64e3799764fe19fe7ad16",
       "version_major": 2,
       "version_minor": 0
      },
      "text/plain": [
       "HBox(children=(FloatProgress(value=1.0, bar_style='info', description='loading instances', layout=Layout(width…"
      ]
     },
     "metadata": {},
     "output_type": "display_data"
    },
    {
     "name": "stderr",
     "output_type": "stream",
     "text": [
      "\n"
     ]
    },
    {
     "data": {
      "application/vnd.jupyter.widget-view+json": {
       "model_id": "02457b643c8c4ababfbfcda6b94c7404",
       "version_major": 2,
       "version_minor": 0
      },
      "text/plain": [
       "HBox(children=(FloatProgress(value=1.0, bar_style='info', description='loading instances', layout=Layout(width…"
      ]
     },
     "metadata": {},
     "output_type": "display_data"
    },
    {
     "name": "stderr",
     "output_type": "stream",
     "text": [
      "\n"
     ]
    }
   ],
   "source": [
    "sampler = BucketBatchSampler(batch_size=32, sorting_keys=[\"tokens\"])\n",
    "train_data_loader = MultiProcessDataLoader(reader, train_path, batch_sampler=sampler)\n",
    "dev_data_loader = MultiProcessDataLoader(reader, dev_path, batch_sampler=sampler)"
   ]
  },
  {
   "cell_type": "code",
   "execution_count": 7,
   "metadata": {},
   "outputs": [
    {
     "data": {
      "application/vnd.jupyter.widget-view+json": {
       "model_id": "11f7e91122c749b1975fecf184f01807",
       "version_major": 2,
       "version_minor": 0
      },
      "text/plain": [
       "HBox(children=(FloatProgress(value=1.0, bar_style='info', description='building vocab', layout=Layout(width='2…"
      ]
     },
     "metadata": {},
     "output_type": "display_data"
    },
    {
     "name": "stderr",
     "output_type": "stream",
     "text": [
      "\n"
     ]
    }
   ],
   "source": [
    "# You can optionally specify the minimum count of tokens/labels.\n",
    "# `min_count={'tokens':3}` here means that any tokens that appear less than three times\n",
    "# will be ignored and not included in the vocabulary.\n",
    "vocab = Vocabulary.from_instances(chain(train_data_loader.iter_instances(), dev_data_loader.iter_instances()),\n",
    "                                  min_count={'tokens': 3})"
   ]
  },
  {
   "cell_type": "code",
   "execution_count": 8,
   "metadata": {},
   "outputs": [],
   "source": [
    "train_data_loader.index_with(vocab)\n",
    "dev_data_loader.index_with(vocab)"
   ]
  },
  {
   "cell_type": "code",
   "execution_count": 9,
   "metadata": {},
   "outputs": [],
   "source": [
    "token_embedding = Embedding(num_embeddings=vocab.get_vocab_size('tokens'),\n",
    "                            embedding_dim=EMBEDDING_DIM)"
   ]
  },
  {
   "cell_type": "code",
   "execution_count": 10,
   "metadata": {},
   "outputs": [],
   "source": [
    "# BasicTextFieldEmbedder takes a dict - we need an embedding just for tokens,\n",
    "# not for labels, which are used as-is as the \"answer\" of the sentence classification\n",
    "word_embeddings = BasicTextFieldEmbedder({\"tokens\": token_embedding})"
   ]
  },
  {
   "cell_type": "code",
   "execution_count": 11,
   "metadata": {},
   "outputs": [],
   "source": [
    "# Seq2VecEncoder is a neural network abstraction that takes a sequence of something\n",
    "# (usually a sequence of embedded word vectors), processes it, and returns a single\n",
    "# vector. Oftentimes this is an RNN-based architecture (e.g., LSTM or GRU), but\n",
    "# AllenNLP also supports CNNs and other simple architectures (for example,\n",
    "# just averaging over the input vectors).\n",
    "encoder = PytorchSeq2VecWrapper(\n",
    "    torch.nn.LSTM(EMBEDDING_DIM, HIDDEN_DIM, batch_first=True))"
   ]
  },
  {
   "cell_type": "code",
   "execution_count": 12,
   "metadata": {},
   "outputs": [],
   "source": [
    "model = LstmClassifier(word_embeddings, encoder, vocab)"
   ]
  },
  {
   "cell_type": "code",
   "execution_count": 13,
   "metadata": {},
   "outputs": [],
   "source": [
    "optimizer = optim.Adam(model.parameters(), lr=1e-4, weight_decay=1e-5)"
   ]
  },
  {
   "cell_type": "code",
   "execution_count": 14,
   "metadata": {},
   "outputs": [
    {
     "data": {
      "application/vnd.jupyter.widget-view+json": {
       "model_id": "dbc4f3cbfea94648a8d5d107ad782fb6",
       "version_major": 2,
       "version_minor": 0
      },
      "text/plain": [
       "HBox(children=(FloatProgress(value=0.0, max=267.0), HTML(value='')))"
      ]
     },
     "metadata": {},
     "output_type": "display_data"
    },
    {
     "name": "stderr",
     "output_type": "stream",
     "text": [
      "\n"
     ]
    },
    {
     "data": {
      "application/vnd.jupyter.widget-view+json": {
       "model_id": "2f50bbc70b2f4e159d93989c18a9ad64",
       "version_major": 2,
       "version_minor": 0
      },
      "text/plain": [
       "HBox(children=(FloatProgress(value=0.0, max=35.0), HTML(value='')))"
      ]
     },
     "metadata": {},
     "output_type": "display_data"
    },
    {
     "name": "stderr",
     "output_type": "stream",
     "text": [
      "\n"
     ]
    },
    {
     "data": {
      "application/vnd.jupyter.widget-view+json": {
       "model_id": "22631a5de3354ad3913407c41d3f5f9b",
       "version_major": 2,
       "version_minor": 0
      },
      "text/plain": [
       "HBox(children=(FloatProgress(value=0.0, max=267.0), HTML(value='')))"
      ]
     },
     "metadata": {},
     "output_type": "display_data"
    },
    {
     "name": "stderr",
     "output_type": "stream",
     "text": [
      "\n"
     ]
    },
    {
     "data": {
      "application/vnd.jupyter.widget-view+json": {
       "model_id": "e5c30a48c76b49c99bfb49eb211cf94c",
       "version_major": 2,
       "version_minor": 0
      },
      "text/plain": [
       "HBox(children=(FloatProgress(value=0.0, max=35.0), HTML(value='')))"
      ]
     },
     "metadata": {},
     "output_type": "display_data"
    },
    {
     "name": "stderr",
     "output_type": "stream",
     "text": [
      "\n"
     ]
    },
    {
     "data": {
      "application/vnd.jupyter.widget-view+json": {
       "model_id": "e04990731aaf4bc9a952b461b4081e72",
       "version_major": 2,
       "version_minor": 0
      },
      "text/plain": [
       "HBox(children=(FloatProgress(value=0.0, max=267.0), HTML(value='')))"
      ]
     },
     "metadata": {},
     "output_type": "display_data"
    },
    {
     "name": "stderr",
     "output_type": "stream",
     "text": [
      "\n"
     ]
    },
    {
     "data": {
      "application/vnd.jupyter.widget-view+json": {
       "model_id": "d9585feffa8b4e99adf096c5d78b74d2",
       "version_major": 2,
       "version_minor": 0
      },
      "text/plain": [
       "HBox(children=(FloatProgress(value=0.0, max=35.0), HTML(value='')))"
      ]
     },
     "metadata": {},
     "output_type": "display_data"
    },
    {
     "name": "stderr",
     "output_type": "stream",
     "text": [
      "\n"
     ]
    },
    {
     "data": {
      "application/vnd.jupyter.widget-view+json": {
       "model_id": "2a2e9b8dc2824fcd8fcbfd00557b4ebf",
       "version_major": 2,
       "version_minor": 0
      },
      "text/plain": [
       "HBox(children=(FloatProgress(value=0.0, max=267.0), HTML(value='')))"
      ]
     },
     "metadata": {},
     "output_type": "display_data"
    },
    {
     "name": "stderr",
     "output_type": "stream",
     "text": [
      "\n"
     ]
    },
    {
     "data": {
      "application/vnd.jupyter.widget-view+json": {
       "model_id": "01555b964dec4ccc93a268c60ccea06f",
       "version_major": 2,
       "version_minor": 0
      },
      "text/plain": [
       "HBox(children=(FloatProgress(value=0.0, max=35.0), HTML(value='')))"
      ]
     },
     "metadata": {},
     "output_type": "display_data"
    },
    {
     "name": "stderr",
     "output_type": "stream",
     "text": [
      "\n"
     ]
    },
    {
     "data": {
      "application/vnd.jupyter.widget-view+json": {
       "model_id": "8537f209a87347c8a1dfbe9476dc7683",
       "version_major": 2,
       "version_minor": 0
      },
      "text/plain": [
       "HBox(children=(FloatProgress(value=0.0, max=267.0), HTML(value='')))"
      ]
     },
     "metadata": {},
     "output_type": "display_data"
    },
    {
     "name": "stderr",
     "output_type": "stream",
     "text": [
      "\n"
     ]
    },
    {
     "data": {
      "application/vnd.jupyter.widget-view+json": {
       "model_id": "379369c6905f47e190cb4f8de019345a",
       "version_major": 2,
       "version_minor": 0
      },
      "text/plain": [
       "HBox(children=(FloatProgress(value=0.0, max=35.0), HTML(value='')))"
      ]
     },
     "metadata": {},
     "output_type": "display_data"
    },
    {
     "name": "stderr",
     "output_type": "stream",
     "text": [
      "\n"
     ]
    },
    {
     "data": {
      "application/vnd.jupyter.widget-view+json": {
       "model_id": "fe90d3969aee41ffa85be9db3e9edbc7",
       "version_major": 2,
       "version_minor": 0
      },
      "text/plain": [
       "HBox(children=(FloatProgress(value=0.0, max=267.0), HTML(value='')))"
      ]
     },
     "metadata": {},
     "output_type": "display_data"
    },
    {
     "name": "stderr",
     "output_type": "stream",
     "text": [
      "\n"
     ]
    },
    {
     "data": {
      "application/vnd.jupyter.widget-view+json": {
       "model_id": "c3f881d5a21f4c7d90550d37e2f76a60",
       "version_major": 2,
       "version_minor": 0
      },
      "text/plain": [
       "HBox(children=(FloatProgress(value=0.0, max=35.0), HTML(value='')))"
      ]
     },
     "metadata": {},
     "output_type": "display_data"
    },
    {
     "name": "stderr",
     "output_type": "stream",
     "text": [
      "\n"
     ]
    },
    {
     "data": {
      "application/vnd.jupyter.widget-view+json": {
       "model_id": "a754708814d6457984bebad61588c6bd",
       "version_major": 2,
       "version_minor": 0
      },
      "text/plain": [
       "HBox(children=(FloatProgress(value=0.0, max=267.0), HTML(value='')))"
      ]
     },
     "metadata": {},
     "output_type": "display_data"
    },
    {
     "name": "stderr",
     "output_type": "stream",
     "text": [
      "\n"
     ]
    },
    {
     "data": {
      "application/vnd.jupyter.widget-view+json": {
       "model_id": "d1ec236e380a4207a3b78e954e8d73eb",
       "version_major": 2,
       "version_minor": 0
      },
      "text/plain": [
       "HBox(children=(FloatProgress(value=0.0, max=35.0), HTML(value='')))"
      ]
     },
     "metadata": {},
     "output_type": "display_data"
    },
    {
     "name": "stderr",
     "output_type": "stream",
     "text": [
      "\n"
     ]
    },
    {
     "data": {
      "application/vnd.jupyter.widget-view+json": {
       "model_id": "684fcab43cb74ff4b572552e5064bbaa",
       "version_major": 2,
       "version_minor": 0
      },
      "text/plain": [
       "HBox(children=(FloatProgress(value=0.0, max=267.0), HTML(value='')))"
      ]
     },
     "metadata": {},
     "output_type": "display_data"
    },
    {
     "name": "stderr",
     "output_type": "stream",
     "text": [
      "\n"
     ]
    },
    {
     "data": {
      "application/vnd.jupyter.widget-view+json": {
       "model_id": "fb7cf9ab62c44590b24708f584eb29c0",
       "version_major": 2,
       "version_minor": 0
      },
      "text/plain": [
       "HBox(children=(FloatProgress(value=0.0, max=35.0), HTML(value='')))"
      ]
     },
     "metadata": {},
     "output_type": "display_data"
    },
    {
     "name": "stderr",
     "output_type": "stream",
     "text": [
      "\n"
     ]
    },
    {
     "data": {
      "application/vnd.jupyter.widget-view+json": {
       "model_id": "a306ac15b9554ae9b2a6b7e54d88d218",
       "version_major": 2,
       "version_minor": 0
      },
      "text/plain": [
       "HBox(children=(FloatProgress(value=0.0, max=267.0), HTML(value='')))"
      ]
     },
     "metadata": {},
     "output_type": "display_data"
    },
    {
     "name": "stderr",
     "output_type": "stream",
     "text": [
      "\n"
     ]
    },
    {
     "data": {
      "application/vnd.jupyter.widget-view+json": {
       "model_id": "9e58343b6b9d4924b46957a465947981",
       "version_major": 2,
       "version_minor": 0
      },
      "text/plain": [
       "HBox(children=(FloatProgress(value=0.0, max=35.0), HTML(value='')))"
      ]
     },
     "metadata": {},
     "output_type": "display_data"
    },
    {
     "name": "stderr",
     "output_type": "stream",
     "text": [
      "\n"
     ]
    },
    {
     "data": {
      "application/vnd.jupyter.widget-view+json": {
       "model_id": "477e243fe13941acb0c93a81ac245001",
       "version_major": 2,
       "version_minor": 0
      },
      "text/plain": [
       "HBox(children=(FloatProgress(value=0.0, max=267.0), HTML(value='')))"
      ]
     },
     "metadata": {},
     "output_type": "display_data"
    },
    {
     "name": "stderr",
     "output_type": "stream",
     "text": [
      "\n"
     ]
    },
    {
     "data": {
      "application/vnd.jupyter.widget-view+json": {
       "model_id": "60ed19cf3fbc4a11b29f4d1b8204ca5f",
       "version_major": 2,
       "version_minor": 0
      },
      "text/plain": [
       "HBox(children=(FloatProgress(value=0.0, max=35.0), HTML(value='')))"
      ]
     },
     "metadata": {},
     "output_type": "display_data"
    },
    {
     "name": "stderr",
     "output_type": "stream",
     "text": [
      "\n"
     ]
    },
    {
     "data": {
      "application/vnd.jupyter.widget-view+json": {
       "model_id": "660a524d70434eafb494c7d0db9e2d7a",
       "version_major": 2,
       "version_minor": 0
      },
      "text/plain": [
       "HBox(children=(FloatProgress(value=0.0, max=267.0), HTML(value='')))"
      ]
     },
     "metadata": {},
     "output_type": "display_data"
    },
    {
     "name": "stderr",
     "output_type": "stream",
     "text": [
      "\n"
     ]
    },
    {
     "data": {
      "application/vnd.jupyter.widget-view+json": {
       "model_id": "67f466d72a554a3a896c441057830b4f",
       "version_major": 2,
       "version_minor": 0
      },
      "text/plain": [
       "HBox(children=(FloatProgress(value=0.0, max=35.0), HTML(value='')))"
      ]
     },
     "metadata": {},
     "output_type": "display_data"
    },
    {
     "name": "stderr",
     "output_type": "stream",
     "text": [
      "\n"
     ]
    },
    {
     "data": {
      "application/vnd.jupyter.widget-view+json": {
       "model_id": "f7a3f378f30b481bbabebb521cec4f44",
       "version_major": 2,
       "version_minor": 0
      },
      "text/plain": [
       "HBox(children=(FloatProgress(value=0.0, max=267.0), HTML(value='')))"
      ]
     },
     "metadata": {},
     "output_type": "display_data"
    },
    {
     "name": "stderr",
     "output_type": "stream",
     "text": [
      "\n"
     ]
    },
    {
     "data": {
      "application/vnd.jupyter.widget-view+json": {
       "model_id": "56f56e2940894bed8cb481d1a3d183f6",
       "version_major": 2,
       "version_minor": 0
      },
      "text/plain": [
       "HBox(children=(FloatProgress(value=0.0, max=35.0), HTML(value='')))"
      ]
     },
     "metadata": {},
     "output_type": "display_data"
    },
    {
     "name": "stderr",
     "output_type": "stream",
     "text": [
      "\n"
     ]
    },
    {
     "data": {
      "application/vnd.jupyter.widget-view+json": {
       "model_id": "05070fc04e05487583052263058ef45a",
       "version_major": 2,
       "version_minor": 0
      },
      "text/plain": [
       "HBox(children=(FloatProgress(value=0.0, max=267.0), HTML(value='')))"
      ]
     },
     "metadata": {},
     "output_type": "display_data"
    },
    {
     "name": "stderr",
     "output_type": "stream",
     "text": [
      "\n"
     ]
    },
    {
     "data": {
      "application/vnd.jupyter.widget-view+json": {
       "model_id": "2d637e4252064e629fb25d328c484bda",
       "version_major": 2,
       "version_minor": 0
      },
      "text/plain": [
       "HBox(children=(FloatProgress(value=0.0, max=35.0), HTML(value='')))"
      ]
     },
     "metadata": {},
     "output_type": "display_data"
    },
    {
     "name": "stderr",
     "output_type": "stream",
     "text": [
      "\n"
     ]
    },
    {
     "data": {
      "application/vnd.jupyter.widget-view+json": {
       "model_id": "da51d765a0d44594b7437006ad70c382",
       "version_major": 2,
       "version_minor": 0
      },
      "text/plain": [
       "HBox(children=(FloatProgress(value=0.0, max=267.0), HTML(value='')))"
      ]
     },
     "metadata": {},
     "output_type": "display_data"
    },
    {
     "name": "stderr",
     "output_type": "stream",
     "text": [
      "\n"
     ]
    },
    {
     "data": {
      "application/vnd.jupyter.widget-view+json": {
       "model_id": "fdf45fe3a9ea4cc59d43b529f1e2c88e",
       "version_major": 2,
       "version_minor": 0
      },
      "text/plain": [
       "HBox(children=(FloatProgress(value=0.0, max=35.0), HTML(value='')))"
      ]
     },
     "metadata": {},
     "output_type": "display_data"
    },
    {
     "name": "stderr",
     "output_type": "stream",
     "text": [
      "\n"
     ]
    },
    {
     "data": {
      "text/plain": [
       "{'best_epoch': 3,\n",
       " 'peak_worker_0_memory_MB': 572.37109375,\n",
       " 'peak_gpu_0_memory_MB': 0,\n",
       " 'training_duration': '0:01:44.450014',\n",
       " 'epoch': 13,\n",
       " 'training_accuracy': 0.7357209737827716,\n",
       " 'training_precision': 0.8340643048286438,\n",
       " 'training_recall': 0.885869562625885,\n",
       " 'training_f1': 0.8591867089271545,\n",
       " 'training_loss': 0.685563972157039,\n",
       " 'training_worker_0_memory_MB': 572.37109375,\n",
       " 'training_gpu_0_memory_MB': 0.0,\n",
       " 'validation_accuracy': 0.35513169845594916,\n",
       " 'validation_precision': 0.3400000035762787,\n",
       " 'validation_recall': 0.4121212065219879,\n",
       " 'validation_f1': 0.3726027309894562,\n",
       " 'validation_loss': 1.9578789642878942,\n",
       " 'best_validation_accuracy': 0.28247048138056313,\n",
       " 'best_validation_precision': 0.0,\n",
       " 'best_validation_recall': 0.0,\n",
       " 'best_validation_f1': 0.0,\n",
       " 'best_validation_loss': 1.55999641759055}"
      ]
     },
     "execution_count": 14,
     "metadata": {},
     "output_type": "execute_result"
    }
   ],
   "source": [
    "trainer = GradientDescentTrainer(\n",
    "    model=model,\n",
    "    optimizer=optimizer,\n",
    "    data_loader=train_data_loader,\n",
    "    validation_data_loader=dev_data_loader,\n",
    "    patience=10,\n",
    "    num_epochs=20,\n",
    "    cuda_device=-1)\n",
    "\n",
    "trainer.train()"
   ]
  },
  {
   "cell_type": "code",
   "execution_count": 15,
   "metadata": {},
   "outputs": [
    {
     "name": "stdout",
     "output_type": "stream",
     "text": [
      "4\n"
     ]
    }
   ],
   "source": [
    "predictor = SentenceClassifierPredictor(model, dataset_reader=reader)\n",
    "logits = predictor.predict('This is the best movie ever!')['logits']\n",
    "label_id = np.argmax(logits)\n",
    "\n",
    "print(model.vocab.get_token_from_index(label_id, 'labels'))"
   ]
  },
  {
   "cell_type": "code",
   "execution_count": null,
   "metadata": {},
   "outputs": [],
   "source": []
  }
 ],
 "metadata": {
  "kernelspec": {
   "display_name": "Python 3",
   "language": "python",
   "name": "python3"
  },
  "language_info": {
   "codemirror_mode": {
    "name": "ipython",
    "version": 3
   },
   "file_extension": ".py",
   "mimetype": "text/x-python",
   "name": "python",
   "nbconvert_exporter": "python",
   "pygments_lexer": "ipython3",
   "version": "3.6.9"
  }
 },
 "nbformat": 4,
 "nbformat_minor": 2
}
